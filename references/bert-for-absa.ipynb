{
 "cells": [
  {
   "cell_type": "code",
   "execution_count": 1,
   "id": "7925b0f5",
   "metadata": {
    "_cell_guid": "b1076dfc-b9ad-4769-8c92-a6c4dae69d19",
    "_uuid": "8f2839f25d086af736a60e9eeb907d3b93b6e0e5",
    "execution": {
     "iopub.execute_input": "2022-03-07T09:33:26.485428Z",
     "iopub.status.busy": "2022-03-07T09:33:26.483804Z",
     "iopub.status.idle": "2022-03-07T09:33:26.501378Z",
     "shell.execute_reply": "2022-03-07T09:33:26.501760Z",
     "shell.execute_reply.started": "2022-03-07T05:20:50.325531Z"
    },
    "papermill": {
     "duration": 0.082038,
     "end_time": "2022-03-07T09:33:26.501969",
     "exception": false,
     "start_time": "2022-03-07T09:33:26.419931",
     "status": "completed"
    },
    "tags": []
   },
   "outputs": [
    {
     "name": "stdout",
     "output_type": "stream",
     "text": [
      "/kaggle/input/restraunt-reviews-for-absa/test_no_annotations.xml\n",
      "/kaggle/input/restraunt-reviews-for-absa/train.xml\n"
     ]
    }
   ],
   "source": [
    "# This Python 3 environment comes with many helpful analytics libraries installed\n",
    "# It is defined by the kaggle/python Docker image: https://github.com/kaggle/docker-python\n",
    "# For example, here's several helpful packages to load\n",
    "\n",
    "import numpy as np # linear algebra\n",
    "import pandas as pd # data processing, CSV file I/O (e.g. pd.read_csv)\n",
    "\n",
    "# Input data files are available in the read-only \"../input/\" directory\n",
    "# For example, running this (by clicking run or pressing Shift+Enter) will list all files under the input directory\n",
    "\n",
    "import os\n",
    "for dirname, _, filenames in os.walk('/kaggle/input'):\n",
    "    for filename in filenames:\n",
    "        print(os.path.join(dirname, filename))\n",
    "\n",
    "# You can write up to 20GB to the current directory (/kaggle/working/) that gets preserved as output when you create a version using \"Save & Run All\" \n",
    "# You can also write temporary files to /kaggle/temp/, but they won't be saved outside of the current session"
   ]
  },
  {
   "cell_type": "markdown",
   "id": "7e27a55a",
   "metadata": {
    "papermill": {
     "duration": 0.055971,
     "end_time": "2022-03-07T09:33:26.615381",
     "exception": false,
     "start_time": "2022-03-07T09:33:26.559410",
     "status": "completed"
    },
    "tags": []
   },
   "source": [
    "# Using BERT for Aspect Based Sentiment Analysis (ABSA)\n",
    "\n",
    "## Installing Dependencies"
   ]
  },
  {
   "cell_type": "code",
   "execution_count": 2,
   "id": "bae9ec76",
   "metadata": {
    "execution": {
     "iopub.execute_input": "2022-03-07T09:33:26.769674Z",
     "iopub.status.busy": "2022-03-07T09:33:26.768901Z",
     "iopub.status.idle": "2022-03-07T09:33:43.042424Z",
     "shell.execute_reply": "2022-03-07T09:33:43.041017Z",
     "shell.execute_reply.started": "2022-03-07T05:20:50.353085Z"
    },
    "papermill": {
     "duration": 16.335302,
     "end_time": "2022-03-07T09:33:43.042578",
     "exception": false,
     "start_time": "2022-03-07T09:33:26.707276",
     "status": "completed"
    },
    "tags": []
   },
   "outputs": [
    {
     "name": "stdout",
     "output_type": "stream",
     "text": [
      "\u001b[33mWARNING: Running pip as the 'root' user can result in broken permissions and conflicting behaviour with the system package manager. It is recommended to use a virtual environment instead: https://pip.pypa.io/warnings/venv\u001b[0m\r\n",
      "\u001b[33mWARNING: Running pip as the 'root' user can result in broken permissions and conflicting behaviour with the system package manager. It is recommended to use a virtual environment instead: https://pip.pypa.io/warnings/venv\u001b[0m\r\n"
     ]
    }
   ],
   "source": [
    "!pip install tqdm boto3 requests regex sentencepiece sacremoses --quiet\n",
    "!pip install transformers --quiet"
   ]
  },
  {
   "cell_type": "markdown",
   "id": "c0b453c9",
   "metadata": {
    "papermill": {
     "duration": 0.05554,
     "end_time": "2022-03-07T09:33:43.154508",
     "exception": false,
     "start_time": "2022-03-07T09:33:43.098968",
     "status": "completed"
    },
    "tags": []
   },
   "source": [
    "## Imports"
   ]
  },
  {
   "cell_type": "code",
   "execution_count": 3,
   "id": "ddc773d8",
   "metadata": {
    "execution": {
     "iopub.execute_input": "2022-03-07T09:33:43.271151Z",
     "iopub.status.busy": "2022-03-07T09:33:43.270429Z",
     "iopub.status.idle": "2022-03-07T09:33:48.956973Z",
     "shell.execute_reply": "2022-03-07T09:33:48.955967Z",
     "shell.execute_reply.started": "2022-03-07T05:21:05.295516Z"
    },
    "papermill": {
     "duration": 5.747342,
     "end_time": "2022-03-07T09:33:48.957121",
     "exception": false,
     "start_time": "2022-03-07T09:33:43.209779",
     "status": "completed"
    },
    "tags": []
   },
   "outputs": [],
   "source": [
    "from tqdm.auto import tqdm\n",
    "from time import perf_counter\n",
    "\n",
    "import xml.etree.ElementTree as ET\n",
    "from xml.dom import minidom\n",
    "\n",
    "import numpy as np\n",
    "import pandas as pd\n",
    "import matplotlib.pyplot as plt\n",
    "from dataclasses import dataclass\n",
    "\n",
    "import torch\n",
    "import torch.nn as nn\n",
    "import torch.optim as optim\n",
    "from torch.utils.data import Dataset, DataLoader, random_split\n",
    "\n",
    "import transformers\n",
    "from transformers import BertModel, BertTokenizer, get_scheduler, set_seed"
   ]
  },
  {
   "cell_type": "markdown",
   "id": "32ef4477",
   "metadata": {
    "papermill": {
     "duration": 0.058306,
     "end_time": "2022-03-07T09:33:49.072699",
     "exception": false,
     "start_time": "2022-03-07T09:33:49.014393",
     "status": "completed"
    },
    "tags": []
   },
   "source": [
    "## Configuration Class for our model"
   ]
  },
  {
   "cell_type": "code",
   "execution_count": 4,
   "id": "92efba65",
   "metadata": {
    "execution": {
     "iopub.execute_input": "2022-03-07T09:33:49.191947Z",
     "iopub.status.busy": "2022-03-07T09:33:49.190988Z",
     "iopub.status.idle": "2022-03-07T09:33:49.192991Z",
     "shell.execute_reply": "2022-03-07T09:33:49.193475Z",
     "shell.execute_reply.started": "2022-03-07T07:41:16.788444Z"
    },
    "papermill": {
     "duration": 0.06469,
     "end_time": "2022-03-07T09:33:49.193619",
     "exception": false,
     "start_time": "2022-03-07T09:33:49.128929",
     "status": "completed"
    },
    "tags": []
   },
   "outputs": [],
   "source": [
    "# CONFIGURATION CLASS\n",
    "@dataclass\n",
    "class Config:\n",
    "    data_path: str = \"../input/restraunt-reviews-for-absa/train.xml\"\n",
    "    test_path: str = \"../input/restraunt-reviews-for-absa/test_no_annotations.xml\"\n",
    "    output_path: str = \"./test.xml\"\n",
    "    batch_size: int = 16\n",
    "    val_size: int = 500 \n",
    "    train_size: int = 0\n",
    "    pin_memory: bool = True\n",
    "    num_workers: int = 2\n",
    "    seed: int = 42\n",
    "    lr: float = 5e-5"
   ]
  },
  {
   "cell_type": "code",
   "execution_count": 5,
   "id": "202cd965",
   "metadata": {
    "execution": {
     "iopub.execute_input": "2022-03-07T09:33:49.308740Z",
     "iopub.status.busy": "2022-03-07T09:33:49.308037Z",
     "iopub.status.idle": "2022-03-07T09:33:49.310613Z",
     "shell.execute_reply": "2022-03-07T09:33:49.310182Z",
     "shell.execute_reply.started": "2022-03-07T07:41:18.612778Z"
    },
    "papermill": {
     "duration": 0.061015,
     "end_time": "2022-03-07T09:33:49.310769",
     "exception": false,
     "start_time": "2022-03-07T09:33:49.249754",
     "status": "completed"
    },
    "tags": []
   },
   "outputs": [],
   "source": [
    "config = Config()"
   ]
  },
  {
   "cell_type": "code",
   "execution_count": 6,
   "id": "019f75cd",
   "metadata": {
    "execution": {
     "iopub.execute_input": "2022-03-07T09:33:49.425750Z",
     "iopub.status.busy": "2022-03-07T09:33:49.425084Z",
     "iopub.status.idle": "2022-03-07T09:33:49.431547Z",
     "shell.execute_reply": "2022-03-07T09:33:49.431039Z",
     "shell.execute_reply.started": "2022-03-07T05:21:07.591649Z"
    },
    "papermill": {
     "duration": 0.065296,
     "end_time": "2022-03-07T09:33:49.431674",
     "exception": false,
     "start_time": "2022-03-07T09:33:49.366378",
     "status": "completed"
    },
    "tags": []
   },
   "outputs": [],
   "source": [
    "set_seed(config.seed)"
   ]
  },
  {
   "cell_type": "markdown",
   "id": "a6a63c85",
   "metadata": {
    "papermill": {
     "duration": 0.055454,
     "end_time": "2022-03-07T09:33:49.542654",
     "exception": false,
     "start_time": "2022-03-07T09:33:49.487200",
     "status": "completed"
    },
    "tags": []
   },
   "source": [
    "## Preprocessing Data"
   ]
  },
  {
   "cell_type": "code",
   "execution_count": 7,
   "id": "3367ad83",
   "metadata": {
    "execution": {
     "iopub.execute_input": "2022-03-07T09:33:49.670962Z",
     "iopub.status.busy": "2022-03-07T09:33:49.670086Z",
     "iopub.status.idle": "2022-03-07T09:33:49.672620Z",
     "shell.execute_reply": "2022-03-07T09:33:49.672085Z",
     "shell.execute_reply.started": "2022-03-07T05:21:07.605979Z"
    },
    "papermill": {
     "duration": 0.074106,
     "end_time": "2022-03-07T09:33:49.672735",
     "exception": false,
     "start_time": "2022-03-07T09:33:49.598629",
     "status": "completed"
    },
    "tags": []
   },
   "outputs": [],
   "source": [
    "# @author: Pulkit\n",
    "def readData(path):\n",
    "    root = ET.parse(path).getroot()\n",
    "    dataset = []\n",
    "    for i in root:\n",
    "        row = []\n",
    "        for j in i:\n",
    "            if j.tag == \"text\":\n",
    "                row.append(j.text)\n",
    "            else:\n",
    "                for k in j:\n",
    "                    row.append(k.attrib.get(\"category\"))\n",
    "                    row.append(k.attrib.get(\"polarity\"))\n",
    "                    dataset.append(row)\n",
    "    return dataset\n",
    "\n",
    "def GenerateAspectCategoriesDict(df):\n",
    "    aspectCategories = np.array(df[1])\n",
    "    aspectCategories = np.concatenate((aspectCategories, np.array(df[3])))\n",
    "    aspectCategories = np.concatenate((aspectCategories, np.array(df[5])))\n",
    "    aspectCategories = np.concatenate((aspectCategories, np.array(df[7])))\n",
    "    aspectCategories = np.concatenate((aspectCategories, np.array(df[9])))\n",
    "    aspectCategories = aspectCategories[aspectCategories != None]\n",
    "    aspectCategories = np.unique(aspectCategories)\n",
    "\n",
    "    aspectCategoriesDictIdxToCat = dict(enumerate(aspectCategories))\n",
    "    aspectCategoriesDictCatToIdx = {}\n",
    "    for i, j in enumerate(aspectCategories):\n",
    "        aspectCategoriesDictCatToIdx[j] = i\n",
    "\n",
    "    return aspectCategoriesDictCatToIdx, aspectCategoriesDictIdxToCat\n",
    "\n",
    "def PolarityDict():\n",
    "    polarityDictPolToIdx = {}\n",
    "    polarityDictIdxToPol = {}\n",
    "    polarity = [\"positive\", \"neutral\", \"negative\"]\n",
    "    for i, j in enumerate(polarity):\n",
    "        polarityDictPolToIdx[j] = i\n",
    "        polarityDictIdxToPol[i] = j\n",
    "    return polarityDictPolToIdx, polarityDictIdxToPol\n",
    "\n",
    "def GenerateAspectPolarityVector(df):\n",
    "    data = np.array(df)\n",
    "    aspectDictCatToIdx, aspectDictIdxToCat = GenerateAspectCategoriesDict(df)\n",
    "    print(aspectDictCatToIdx)\n",
    "    polarityDictCatToIdx, polarityDictIdxToCat = PolarityDict()\n",
    "\n",
    "    categoryVec = []\n",
    "    for i in range(len(df)):\n",
    "        vec = [0 for k in range(24)]\n",
    "        for j in range(1, 10, 2):\n",
    "            if data[i][j] == None:\n",
    "                break\n",
    "            temp1 = aspectDictCatToIdx[data[i][j]]\n",
    "            temp2 = polarityDictCatToIdx[data[i][j+1]]\n",
    "            vec[(temp1*3)+temp2] = 1\n",
    "        categoryVec.append(vec)\n",
    "    \n",
    "    return categoryVec"
   ]
  },
  {
   "cell_type": "code",
   "execution_count": 8,
   "id": "e158d94d",
   "metadata": {
    "execution": {
     "iopub.execute_input": "2022-03-07T09:33:49.789148Z",
     "iopub.status.busy": "2022-03-07T09:33:49.788537Z",
     "iopub.status.idle": "2022-03-07T09:33:49.915525Z",
     "shell.execute_reply": "2022-03-07T09:33:49.915938Z",
     "shell.execute_reply.started": "2022-03-07T05:21:07.630608Z"
    },
    "papermill": {
     "duration": 0.187515,
     "end_time": "2022-03-07T09:33:49.916071",
     "exception": false,
     "start_time": "2022-03-07T09:33:49.728556",
     "status": "completed"
    },
    "tags": []
   },
   "outputs": [
    {
     "name": "stdout",
     "output_type": "stream",
     "text": [
      "{'ambience': 0, 'food': 1, 'menu': 2, 'miscellaneous': 3, 'place': 4, 'price': 5, 'service': 6, 'staff': 7}\n"
     ]
    }
   ],
   "source": [
    "df = pd.DataFrame(readData(config.data_path))\n",
    "df[\"Aspect\"] = GenerateAspectPolarityVector(df)\n",
    "# df.head(10)\n",
    "\n",
    "# @author: Satwik\n",
    "columns = ['reviews', 'aspect1', 'sentiment1', 'aspect2', 'sentiment2', \n",
    "           'aspect3', 'sentiment3', 'aspect4', 'sentiment4', 'aspect5', \n",
    "           'sentiment5', 'one_hot']\n",
    "\n",
    "df.columns = columns\n",
    "# df.head(10)"
   ]
  },
  {
   "cell_type": "code",
   "execution_count": 9,
   "id": "0133a399",
   "metadata": {
    "execution": {
     "iopub.execute_input": "2022-03-07T09:33:50.032943Z",
     "iopub.status.busy": "2022-03-07T09:33:50.031277Z",
     "iopub.status.idle": "2022-03-07T09:33:50.069781Z",
     "shell.execute_reply": "2022-03-07T09:33:50.070909Z",
     "shell.execute_reply.started": "2022-03-07T05:21:07.815921Z"
    },
    "papermill": {
     "duration": 0.09829,
     "end_time": "2022-03-07T09:33:50.071134",
     "exception": false,
     "start_time": "2022-03-07T09:33:49.972844",
     "status": "completed"
    },
    "tags": []
   },
   "outputs": [
    {
     "data": {
      "text/html": [
       "<div>\n",
       "<style scoped>\n",
       "    .dataframe tbody tr th:only-of-type {\n",
       "        vertical-align: middle;\n",
       "    }\n",
       "\n",
       "    .dataframe tbody tr th {\n",
       "        vertical-align: top;\n",
       "    }\n",
       "\n",
       "    .dataframe thead th {\n",
       "        text-align: right;\n",
       "    }\n",
       "</style>\n",
       "<table border=\"1\" class=\"dataframe\">\n",
       "  <thead>\n",
       "    <tr style=\"text-align: right;\">\n",
       "      <th></th>\n",
       "      <th>reviews</th>\n",
       "      <th>aspect1</th>\n",
       "      <th>sentiment1</th>\n",
       "      <th>aspect2</th>\n",
       "      <th>sentiment2</th>\n",
       "      <th>aspect3</th>\n",
       "      <th>sentiment3</th>\n",
       "      <th>aspect4</th>\n",
       "      <th>sentiment4</th>\n",
       "      <th>aspect5</th>\n",
       "      <th>sentiment5</th>\n",
       "      <th>one_hot</th>\n",
       "    </tr>\n",
       "  </thead>\n",
       "  <tbody>\n",
       "    <tr>\n",
       "      <th>0</th>\n",
       "      <td>It might be the best sit down food I've had in...</td>\n",
       "      <td>food</td>\n",
       "      <td>positive</td>\n",
       "      <td>place</td>\n",
       "      <td>neutral</td>\n",
       "      <td>None</td>\n",
       "      <td>None</td>\n",
       "      <td>None</td>\n",
       "      <td>None</td>\n",
       "      <td>None</td>\n",
       "      <td>None</td>\n",
       "      <td>[0, 0, 0, 1, 0, 0, 0, 0, 0, 0, 0, 0, 0, 1, 0, ...</td>\n",
       "    </tr>\n",
       "    <tr>\n",
       "      <th>1</th>\n",
       "      <td>It might be the best sit down food I've had in...</td>\n",
       "      <td>food</td>\n",
       "      <td>positive</td>\n",
       "      <td>place</td>\n",
       "      <td>neutral</td>\n",
       "      <td>None</td>\n",
       "      <td>None</td>\n",
       "      <td>None</td>\n",
       "      <td>None</td>\n",
       "      <td>None</td>\n",
       "      <td>None</td>\n",
       "      <td>[0, 0, 0, 1, 0, 0, 0, 0, 0, 0, 0, 0, 0, 1, 0, ...</td>\n",
       "    </tr>\n",
       "    <tr>\n",
       "      <th>2</th>\n",
       "      <td>Hostess was extremely accommodating when we ar...</td>\n",
       "      <td>staff</td>\n",
       "      <td>positive</td>\n",
       "      <td>miscellaneous</td>\n",
       "      <td>neutral</td>\n",
       "      <td>None</td>\n",
       "      <td>None</td>\n",
       "      <td>None</td>\n",
       "      <td>None</td>\n",
       "      <td>None</td>\n",
       "      <td>None</td>\n",
       "      <td>[0, 0, 0, 0, 0, 0, 0, 0, 0, 0, 1, 0, 0, 0, 0, ...</td>\n",
       "    </tr>\n",
       "    <tr>\n",
       "      <th>3</th>\n",
       "      <td>Hostess was extremely accommodating when we ar...</td>\n",
       "      <td>staff</td>\n",
       "      <td>positive</td>\n",
       "      <td>miscellaneous</td>\n",
       "      <td>neutral</td>\n",
       "      <td>None</td>\n",
       "      <td>None</td>\n",
       "      <td>None</td>\n",
       "      <td>None</td>\n",
       "      <td>None</td>\n",
       "      <td>None</td>\n",
       "      <td>[0, 0, 0, 0, 0, 0, 0, 0, 0, 0, 1, 0, 0, 0, 0, ...</td>\n",
       "    </tr>\n",
       "    <tr>\n",
       "      <th>4</th>\n",
       "      <td>We were a couple of minutes late for our reser...</td>\n",
       "      <td>miscellaneous</td>\n",
       "      <td>neutral</td>\n",
       "      <td>staff</td>\n",
       "      <td>negative</td>\n",
       "      <td>None</td>\n",
       "      <td>None</td>\n",
       "      <td>None</td>\n",
       "      <td>None</td>\n",
       "      <td>None</td>\n",
       "      <td>None</td>\n",
       "      <td>[0, 0, 0, 0, 0, 0, 0, 0, 0, 0, 1, 0, 0, 0, 0, ...</td>\n",
       "    </tr>\n",
       "  </tbody>\n",
       "</table>\n",
       "</div>"
      ],
      "text/plain": [
       "                                             reviews        aspect1  \\\n",
       "0  It might be the best sit down food I've had in...           food   \n",
       "1  It might be the best sit down food I've had in...           food   \n",
       "2  Hostess was extremely accommodating when we ar...          staff   \n",
       "3  Hostess was extremely accommodating when we ar...          staff   \n",
       "4  We were a couple of minutes late for our reser...  miscellaneous   \n",
       "\n",
       "  sentiment1        aspect2 sentiment2 aspect3 sentiment3 aspect4 sentiment4  \\\n",
       "0   positive          place    neutral    None       None    None       None   \n",
       "1   positive          place    neutral    None       None    None       None   \n",
       "2   positive  miscellaneous    neutral    None       None    None       None   \n",
       "3   positive  miscellaneous    neutral    None       None    None       None   \n",
       "4    neutral          staff   negative    None       None    None       None   \n",
       "\n",
       "  aspect5 sentiment5                                            one_hot  \n",
       "0    None       None  [0, 0, 0, 1, 0, 0, 0, 0, 0, 0, 0, 0, 0, 1, 0, ...  \n",
       "1    None       None  [0, 0, 0, 1, 0, 0, 0, 0, 0, 0, 0, 0, 0, 1, 0, ...  \n",
       "2    None       None  [0, 0, 0, 0, 0, 0, 0, 0, 0, 0, 1, 0, 0, 0, 0, ...  \n",
       "3    None       None  [0, 0, 0, 0, 0, 0, 0, 0, 0, 0, 1, 0, 0, 0, 0, ...  \n",
       "4    None       None  [0, 0, 0, 0, 0, 0, 0, 0, 0, 0, 1, 0, 0, 0, 0, ...  "
      ]
     },
     "execution_count": 9,
     "metadata": {},
     "output_type": "execute_result"
    }
   ],
   "source": [
    "df.head()"
   ]
  },
  {
   "cell_type": "code",
   "execution_count": 10,
   "id": "61002dd0",
   "metadata": {
    "execution": {
     "iopub.execute_input": "2022-03-07T09:33:50.301037Z",
     "iopub.status.busy": "2022-03-07T09:33:50.300489Z",
     "iopub.status.idle": "2022-03-07T09:33:50.335677Z",
     "shell.execute_reply": "2022-03-07T09:33:50.336690Z",
     "shell.execute_reply.started": "2022-03-07T05:21:07.850021Z"
    },
    "papermill": {
     "duration": 0.13785,
     "end_time": "2022-03-07T09:33:50.336879",
     "exception": false,
     "start_time": "2022-03-07T09:33:50.199029",
     "status": "completed"
    },
    "tags": []
   },
   "outputs": [],
   "source": [
    "aspect_conversion_dict = {'ambience': 0, 'food': 1, 'menu': 2, 'miscellaneous': 3, 'place': 4, 'price': 5, 'service': 6, 'staff': 7}\n",
    "sentiment_conversion_dict = {'positive': 2, 'neutral': 1, 'negative': 0}\n",
    "\n",
    "df['aspect1'] = df['aspect1'].apply(lambda x: aspect_conversion_dict[x])\n",
    "df['sentiment1'] = df['sentiment1'].apply(lambda x: sentiment_conversion_dict[x])\n",
    "\n",
    "df['aspect2'] = df['aspect2'].apply(lambda x: aspect_conversion_dict[x])\n",
    "df['sentiment2'] = df['sentiment2'].apply(lambda x: sentiment_conversion_dict[x])\n",
    "\n",
    "# df['aspect3'] = df['aspect3'].apply(lambda x: aspect_conversion_dict[x] if x is not None)\n",
    "# df['sentiment3'] = df['sentiment3'].apply(lambda x: sentiment_conversion_dict[x] if x is not None)\n",
    "\n",
    "# df['aspect4'] = df['aspect4'].apply(lambda x: aspect_conversion_dict[x] if x is not None)\n",
    "# df['sentiment4'] = df['sentiment4'].apply(lambda x: sentiment_conversion_dict[x] if x is not None)\n",
    "\n",
    "# df['aspect5'] = df['aspect5'].apply(lambda x: aspect_conversion_dict[x] if x is not None)\n",
    "# df['sentiment5'] = df['sentiment5'].apply(lambda x: sentiment_conversion_dict[x] if x is not None)"
   ]
  },
  {
   "cell_type": "code",
   "execution_count": 11,
   "id": "89295337",
   "metadata": {
    "execution": {
     "iopub.execute_input": "2022-03-07T09:33:50.533932Z",
     "iopub.status.busy": "2022-03-07T09:33:50.533134Z",
     "iopub.status.idle": "2022-03-07T09:33:50.557328Z",
     "shell.execute_reply": "2022-03-07T09:33:50.558414Z",
     "shell.execute_reply.started": "2022-03-07T05:21:07.89511Z"
    },
    "papermill": {
     "duration": 0.128238,
     "end_time": "2022-03-07T09:33:50.558591",
     "exception": false,
     "start_time": "2022-03-07T09:33:50.430353",
     "status": "completed"
    },
    "tags": []
   },
   "outputs": [
    {
     "data": {
      "text/html": [
       "<div>\n",
       "<style scoped>\n",
       "    .dataframe tbody tr th:only-of-type {\n",
       "        vertical-align: middle;\n",
       "    }\n",
       "\n",
       "    .dataframe tbody tr th {\n",
       "        vertical-align: top;\n",
       "    }\n",
       "\n",
       "    .dataframe thead th {\n",
       "        text-align: right;\n",
       "    }\n",
       "</style>\n",
       "<table border=\"1\" class=\"dataframe\">\n",
       "  <thead>\n",
       "    <tr style=\"text-align: right;\">\n",
       "      <th></th>\n",
       "      <th>reviews</th>\n",
       "      <th>aspect1</th>\n",
       "      <th>sentiment1</th>\n",
       "      <th>aspect2</th>\n",
       "      <th>sentiment2</th>\n",
       "      <th>aspect3</th>\n",
       "      <th>sentiment3</th>\n",
       "      <th>aspect4</th>\n",
       "      <th>sentiment4</th>\n",
       "      <th>aspect5</th>\n",
       "      <th>sentiment5</th>\n",
       "      <th>one_hot</th>\n",
       "      <th>labels1</th>\n",
       "      <th>labels2</th>\n",
       "    </tr>\n",
       "  </thead>\n",
       "  <tbody>\n",
       "    <tr>\n",
       "      <th>0</th>\n",
       "      <td>It might be the best sit down food I've had in...</td>\n",
       "      <td>2</td>\n",
       "      <td>3</td>\n",
       "      <td>5</td>\n",
       "      <td>2</td>\n",
       "      <td>None</td>\n",
       "      <td>None</td>\n",
       "      <td>None</td>\n",
       "      <td>None</td>\n",
       "      <td>None</td>\n",
       "      <td>None</td>\n",
       "      <td>[0, 0, 0, 1, 0, 0, 0, 0, 0, 0, 0, 0, 0, 1, 0, ...</td>\n",
       "      <td>5</td>\n",
       "      <td>9</td>\n",
       "    </tr>\n",
       "    <tr>\n",
       "      <th>1</th>\n",
       "      <td>It might be the best sit down food I've had in...</td>\n",
       "      <td>2</td>\n",
       "      <td>3</td>\n",
       "      <td>5</td>\n",
       "      <td>2</td>\n",
       "      <td>None</td>\n",
       "      <td>None</td>\n",
       "      <td>None</td>\n",
       "      <td>None</td>\n",
       "      <td>None</td>\n",
       "      <td>None</td>\n",
       "      <td>[0, 0, 0, 1, 0, 0, 0, 0, 0, 0, 0, 0, 0, 1, 0, ...</td>\n",
       "      <td>5</td>\n",
       "      <td>9</td>\n",
       "    </tr>\n",
       "    <tr>\n",
       "      <th>2</th>\n",
       "      <td>Hostess was extremely accommodating when we ar...</td>\n",
       "      <td>8</td>\n",
       "      <td>3</td>\n",
       "      <td>4</td>\n",
       "      <td>2</td>\n",
       "      <td>None</td>\n",
       "      <td>None</td>\n",
       "      <td>None</td>\n",
       "      <td>None</td>\n",
       "      <td>None</td>\n",
       "      <td>None</td>\n",
       "      <td>[0, 0, 0, 0, 0, 0, 0, 0, 0, 0, 1, 0, 0, 0, 0, ...</td>\n",
       "      <td>23</td>\n",
       "      <td>7</td>\n",
       "    </tr>\n",
       "    <tr>\n",
       "      <th>3</th>\n",
       "      <td>Hostess was extremely accommodating when we ar...</td>\n",
       "      <td>8</td>\n",
       "      <td>3</td>\n",
       "      <td>4</td>\n",
       "      <td>2</td>\n",
       "      <td>None</td>\n",
       "      <td>None</td>\n",
       "      <td>None</td>\n",
       "      <td>None</td>\n",
       "      <td>None</td>\n",
       "      <td>None</td>\n",
       "      <td>[0, 0, 0, 0, 0, 0, 0, 0, 0, 0, 1, 0, 0, 0, 0, ...</td>\n",
       "      <td>23</td>\n",
       "      <td>7</td>\n",
       "    </tr>\n",
       "    <tr>\n",
       "      <th>4</th>\n",
       "      <td>We were a couple of minutes late for our reser...</td>\n",
       "      <td>4</td>\n",
       "      <td>2</td>\n",
       "      <td>8</td>\n",
       "      <td>1</td>\n",
       "      <td>None</td>\n",
       "      <td>None</td>\n",
       "      <td>None</td>\n",
       "      <td>None</td>\n",
       "      <td>None</td>\n",
       "      <td>None</td>\n",
       "      <td>[0, 0, 0, 0, 0, 0, 0, 0, 0, 0, 1, 0, 0, 0, 0, ...</td>\n",
       "      <td>7</td>\n",
       "      <td>7</td>\n",
       "    </tr>\n",
       "  </tbody>\n",
       "</table>\n",
       "</div>"
      ],
      "text/plain": [
       "                                             reviews  aspect1  sentiment1  \\\n",
       "0  It might be the best sit down food I've had in...        2           3   \n",
       "1  It might be the best sit down food I've had in...        2           3   \n",
       "2  Hostess was extremely accommodating when we ar...        8           3   \n",
       "3  Hostess was extremely accommodating when we ar...        8           3   \n",
       "4  We were a couple of minutes late for our reser...        4           2   \n",
       "\n",
       "   aspect2  sentiment2 aspect3 sentiment3 aspect4 sentiment4 aspect5  \\\n",
       "0        5           2    None       None    None       None    None   \n",
       "1        5           2    None       None    None       None    None   \n",
       "2        4           2    None       None    None       None    None   \n",
       "3        4           2    None       None    None       None    None   \n",
       "4        8           1    None       None    None       None    None   \n",
       "\n",
       "  sentiment5                                            one_hot  labels1  \\\n",
       "0       None  [0, 0, 0, 1, 0, 0, 0, 0, 0, 0, 0, 0, 0, 1, 0, ...        5   \n",
       "1       None  [0, 0, 0, 1, 0, 0, 0, 0, 0, 0, 0, 0, 0, 1, 0, ...        5   \n",
       "2       None  [0, 0, 0, 0, 0, 0, 0, 0, 0, 0, 1, 0, 0, 0, 0, ...       23   \n",
       "3       None  [0, 0, 0, 0, 0, 0, 0, 0, 0, 0, 1, 0, 0, 0, 0, ...       23   \n",
       "4       None  [0, 0, 0, 0, 0, 0, 0, 0, 0, 0, 1, 0, 0, 0, 0, ...        7   \n",
       "\n",
       "   labels2  \n",
       "0        9  \n",
       "1        9  \n",
       "2        7  \n",
       "3        7  \n",
       "4        7  "
      ]
     },
     "execution_count": 11,
     "metadata": {},
     "output_type": "execute_result"
    }
   ],
   "source": [
    "a1 = df['aspect1']\n",
    "s1 = df['sentiment1']\n",
    "a1 += 1\n",
    "s1 += 1\n",
    "df['labels1'] = a1*s1 - 1\n",
    "\n",
    "a2 = df['aspect2']\n",
    "s2 = df['sentiment2']\n",
    "a2 += 1\n",
    "s2 += 1\n",
    "df['labels2'] = a2*s2 - 1\n",
    "\n",
    "df.head()"
   ]
  },
  {
   "cell_type": "code",
   "execution_count": 12,
   "id": "0c192c6c",
   "metadata": {
    "execution": {
     "iopub.execute_input": "2022-03-07T09:33:50.704199Z",
     "iopub.status.busy": "2022-03-07T09:33:50.702575Z",
     "iopub.status.idle": "2022-03-07T09:33:50.704889Z",
     "shell.execute_reply": "2022-03-07T09:33:50.705368Z",
     "shell.execute_reply.started": "2022-03-07T05:21:07.934118Z"
    },
    "papermill": {
     "duration": 0.063426,
     "end_time": "2022-03-07T09:33:50.705499",
     "exception": false,
     "start_time": "2022-03-07T09:33:50.642073",
     "status": "completed"
    },
    "tags": []
   },
   "outputs": [],
   "source": [
    "# def combine_aspect_sentiments(df, aspect_col, sentiment_col):\n",
    "#     a = df[aspect_col]\n",
    "#     s = df[sentiment_col]\n",
    "#     ohl = int(a*s)"
   ]
  },
  {
   "cell_type": "code",
   "execution_count": 13,
   "id": "21804daa",
   "metadata": {
    "execution": {
     "iopub.execute_input": "2022-03-07T09:33:50.823435Z",
     "iopub.status.busy": "2022-03-07T09:33:50.822835Z",
     "iopub.status.idle": "2022-03-07T09:33:50.825473Z",
     "shell.execute_reply": "2022-03-07T09:33:50.825028Z",
     "shell.execute_reply.started": "2022-03-07T05:21:07.948751Z"
    },
    "papermill": {
     "duration": 0.062338,
     "end_time": "2022-03-07T09:33:50.825584",
     "exception": false,
     "start_time": "2022-03-07T09:33:50.763246",
     "status": "completed"
    },
    "tags": []
   },
   "outputs": [],
   "source": [
    "# df.head()"
   ]
  },
  {
   "cell_type": "markdown",
   "id": "b6e19b97",
   "metadata": {
    "papermill": {
     "duration": 0.056922,
     "end_time": "2022-03-07T09:33:50.940663",
     "exception": false,
     "start_time": "2022-03-07T09:33:50.883741",
     "status": "completed"
    },
    "tags": []
   },
   "source": [
    "## Model Preparation"
   ]
  },
  {
   "cell_type": "code",
   "execution_count": 14,
   "id": "de462891",
   "metadata": {
    "execution": {
     "iopub.execute_input": "2022-03-07T09:33:51.061642Z",
     "iopub.status.busy": "2022-03-07T09:33:51.061012Z",
     "iopub.status.idle": "2022-03-07T09:33:51.081877Z",
     "shell.execute_reply": "2022-03-07T09:33:51.081441Z",
     "shell.execute_reply.started": "2022-03-07T05:21:07.960018Z"
    },
    "papermill": {
     "duration": 0.083942,
     "end_time": "2022-03-07T09:33:51.081979",
     "exception": false,
     "start_time": "2022-03-07T09:33:50.998037",
     "status": "completed"
    },
    "tags": []
   },
   "outputs": [],
   "source": [
    "classifier = nn.Sequential(nn.Dropout(), nn.Linear(768, 24), nn.ReLU())\n",
    "classifer2 = nn.Sequential(nn.Dropout(), nn.Linear(768, 24), nn.ReLU())"
   ]
  },
  {
   "cell_type": "code",
   "execution_count": 15,
   "id": "d2aca995",
   "metadata": {
    "execution": {
     "iopub.execute_input": "2022-03-07T09:33:51.202667Z",
     "iopub.status.busy": "2022-03-07T09:33:51.201949Z",
     "iopub.status.idle": "2022-03-07T09:33:51.204272Z",
     "shell.execute_reply": "2022-03-07T09:33:51.203834Z",
     "shell.execute_reply.started": "2022-03-07T05:21:07.974618Z"
    },
    "papermill": {
     "duration": 0.064435,
     "end_time": "2022-03-07T09:33:51.204377",
     "exception": false,
     "start_time": "2022-03-07T09:33:51.139942",
     "status": "completed"
    },
    "tags": []
   },
   "outputs": [],
   "source": [
    "class BertForABSA(nn.Module):\n",
    "    def __init__(self, bert, num_labels=24):\n",
    "        super(BertForABSA, self).__init__()\n",
    "        self.bert = bert\n",
    "        self.classifier = classifier\n",
    "#         self.dropout = nn.Dropout()\n",
    "#         self.classifier = nn.Linear(768, num_labels)\n",
    "#         self.relu = nn.ReLU()\n",
    "\n",
    "    def forward(self, input_ids, token_type_ids, attention_mask):\n",
    "        _, pooled_output = self.bert(input_ids, token_type_ids, attention_mask, \n",
    "                                     return_dict=False)\n",
    "        \n",
    "        logits = self.classifier(pooled_output)\n",
    "#         pooled_output = self.dropout(pooled_output)\n",
    "#         logits = self.classifier(pooled_output)\n",
    "#         logits = self.relu(logits)\n",
    "\n",
    "        return logits"
   ]
  },
  {
   "cell_type": "markdown",
   "id": "ad53ce7e",
   "metadata": {
    "papermill": {
     "duration": 0.056933,
     "end_time": "2022-03-07T09:33:51.318672",
     "exception": false,
     "start_time": "2022-03-07T09:33:51.261739",
     "status": "completed"
    },
    "tags": []
   },
   "source": [
    "## Dataset and DataLoaders"
   ]
  },
  {
   "cell_type": "code",
   "execution_count": 16,
   "id": "d87c1d78",
   "metadata": {
    "execution": {
     "iopub.execute_input": "2022-03-07T09:33:51.442772Z",
     "iopub.status.busy": "2022-03-07T09:33:51.439204Z",
     "iopub.status.idle": "2022-03-07T09:33:51.445112Z",
     "shell.execute_reply": "2022-03-07T09:33:51.444732Z",
     "shell.execute_reply.started": "2022-03-07T05:21:07.989362Z"
    },
    "papermill": {
     "duration": 0.069819,
     "end_time": "2022-03-07T09:33:51.445241",
     "exception": false,
     "start_time": "2022-03-07T09:33:51.375422",
     "status": "completed"
    },
    "tags": []
   },
   "outputs": [],
   "source": [
    "class ReviewsDataset(Dataset):\n",
    "    def __init__(self, train_data, tokenizer, label_col, max_sequence_len=96, as_float=False): \n",
    "        self.as_float = as_float\n",
    "        print(\"Starting Process ...\")   \n",
    "        labels = list(train_data[label_col].values)\n",
    "        # Number of exmaples.\n",
    "        self.n_examples = len(labels)\n",
    "        # Use tokenizer on texts. This can take a while.\n",
    "        print('Using tokenizer on all texts ...')\n",
    "\n",
    "        texts = list(train_data['reviews'].values)\n",
    "        self.inputs = tokenizer(texts, add_special_tokens=True, \\\n",
    "                                truncation=True, padding=True, \\\n",
    "                                return_tensors='pt')\n",
    "        \n",
    "        # Get maximum sequence length.\n",
    "        self.sequence_len = self.inputs['input_ids'].shape[-1]\n",
    "        print('Texts padded or truncated to %d length!' % self.sequence_len)\n",
    "        # Add labels.\n",
    "        self.labels = torch.tensor(labels)\n",
    "        print('Finished!\\n')\n",
    " \n",
    "    def __len__(self):\n",
    "        return self.n_examples\n",
    " \n",
    "    def __getitem__(self, i):\n",
    "        if self.as_float:\n",
    "            return {key: self.inputs[key][i] for key in self.inputs.keys()}, self.labels[i].to(torch.float)\n",
    "        else:\n",
    "            return {key: self.inputs[key][i] for key in self.inputs.keys()}, self.labels[i]"
   ]
  },
  {
   "cell_type": "code",
   "execution_count": 17,
   "id": "c666e8fe",
   "metadata": {
    "execution": {
     "iopub.execute_input": "2022-03-07T09:33:51.563893Z",
     "iopub.status.busy": "2022-03-07T09:33:51.563144Z",
     "iopub.status.idle": "2022-03-07T09:34:04.486361Z",
     "shell.execute_reply": "2022-03-07T09:34:04.486776Z",
     "shell.execute_reply.started": "2022-03-07T05:21:08.009396Z"
    },
    "papermill": {
     "duration": 12.984766,
     "end_time": "2022-03-07T09:34:04.486942",
     "exception": false,
     "start_time": "2022-03-07T09:33:51.502176",
     "status": "completed"
    },
    "tags": []
   },
   "outputs": [
    {
     "data": {
      "application/vnd.jupyter.widget-view+json": {
       "model_id": "49f24274cfe042fb8274b5407ec2eeec",
       "version_major": 2,
       "version_minor": 0
      },
      "text/plain": [
       "Downloading:   0%|          | 0.00/226k [00:00<?, ?B/s]"
      ]
     },
     "metadata": {},
     "output_type": "display_data"
    },
    {
     "data": {
      "application/vnd.jupyter.widget-view+json": {
       "model_id": "819c2d7a0a15443ba36379ccf220045c",
       "version_major": 2,
       "version_minor": 0
      },
      "text/plain": [
       "Downloading:   0%|          | 0.00/28.0 [00:00<?, ?B/s]"
      ]
     },
     "metadata": {},
     "output_type": "display_data"
    },
    {
     "data": {
      "application/vnd.jupyter.widget-view+json": {
       "model_id": "920f6e14926245bba47ffd4af4e2bc87",
       "version_major": 2,
       "version_minor": 0
      },
      "text/plain": [
       "Downloading:   0%|          | 0.00/455k [00:00<?, ?B/s]"
      ]
     },
     "metadata": {},
     "output_type": "display_data"
    },
    {
     "data": {
      "application/vnd.jupyter.widget-view+json": {
       "model_id": "e32331e4f6864226858eb7a3f753e159",
       "version_major": 2,
       "version_minor": 0
      },
      "text/plain": [
       "Downloading:   0%|          | 0.00/570 [00:00<?, ?B/s]"
      ]
     },
     "metadata": {},
     "output_type": "display_data"
    },
    {
     "data": {
      "application/vnd.jupyter.widget-view+json": {
       "model_id": "03945f1cee31484ba7c27ffdcbfae930",
       "version_major": 2,
       "version_minor": 0
      },
      "text/plain": [
       "Downloading:   0%|          | 0.00/420M [00:00<?, ?B/s]"
      ]
     },
     "metadata": {},
     "output_type": "display_data"
    },
    {
     "name": "stderr",
     "output_type": "stream",
     "text": [
      "Some weights of the model checkpoint at bert-base-uncased were not used when initializing BertModel: ['cls.predictions.transform.LayerNorm.bias', 'cls.predictions.transform.LayerNorm.weight', 'cls.predictions.transform.dense.weight', 'cls.predictions.decoder.weight', 'cls.seq_relationship.bias', 'cls.predictions.bias', 'cls.seq_relationship.weight', 'cls.predictions.transform.dense.bias']\n",
      "- This IS expected if you are initializing BertModel from the checkpoint of a model trained on another task or with another architecture (e.g. initializing a BertForSequenceClassification model from a BertForPreTraining model).\n",
      "- This IS NOT expected if you are initializing BertModel from the checkpoint of a model that you expect to be exactly identical (initializing a BertForSequenceClassification model from a BertForSequenceClassification model).\n"
     ]
    }
   ],
   "source": [
    "tokenizer = BertTokenizer.from_pretrained(\"bert-base-uncased\")\n",
    "bert = BertModel.from_pretrained(\"bert-base-uncased\")"
   ]
  },
  {
   "cell_type": "code",
   "execution_count": 18,
   "id": "54724eca",
   "metadata": {
    "execution": {
     "iopub.execute_input": "2022-03-07T09:34:04.623296Z",
     "iopub.status.busy": "2022-03-07T09:34:04.618240Z",
     "iopub.status.idle": "2022-03-07T09:34:11.566655Z",
     "shell.execute_reply": "2022-03-07T09:34:11.567273Z",
     "shell.execute_reply.started": "2022-03-07T05:21:10.630407Z"
    },
    "papermill": {
     "duration": 7.019092,
     "end_time": "2022-03-07T09:34:11.567470",
     "exception": false,
     "start_time": "2022-03-07T09:34:04.548378",
     "status": "completed"
    },
    "tags": []
   },
   "outputs": [
    {
     "name": "stdout",
     "output_type": "stream",
     "text": [
      "Starting Process ...\n",
      "Using tokenizer on all texts ...\n",
      "Texts padded or truncated to 97 length!\n",
      "Finished!\n",
      "\n"
     ]
    }
   ],
   "source": [
    "dataset = ReviewsDataset(df, tokenizer, 'labels1')"
   ]
  },
  {
   "cell_type": "code",
   "execution_count": 19,
   "id": "c4bfda0e",
   "metadata": {
    "execution": {
     "iopub.execute_input": "2022-03-07T09:34:11.694733Z",
     "iopub.status.busy": "2022-03-07T09:34:11.694091Z",
     "iopub.status.idle": "2022-03-07T09:34:11.702346Z",
     "shell.execute_reply": "2022-03-07T09:34:11.702750Z",
     "shell.execute_reply.started": "2022-03-07T05:21:17.100133Z"
    },
    "papermill": {
     "duration": 0.073584,
     "end_time": "2022-03-07T09:34:11.702886",
     "exception": false,
     "start_time": "2022-03-07T09:34:11.629302",
     "status": "completed"
    },
    "tags": []
   },
   "outputs": [
    {
     "name": "stdout",
     "output_type": "stream",
     "text": [
      "{'input_ids': tensor([  101,  2009,  2453,  2022,  1996,  2190,  4133,  2091,  2833,  1045,\n",
      "         1005,  2310,  2018,  1999,  1996,  2181,  1010,  2061,  2065,  2017,\n",
      "         2024,  2183,  2000,  1996, 10051,  6926,  4250,  1010,  2030,  1996,\n",
      "         3871,  1010,  2009,  2071,  2022,  2074,  1996,  2173,  2005,  2017,\n",
      "         1012,   102,     0,     0,     0,     0,     0,     0,     0,     0,\n",
      "            0,     0,     0,     0,     0,     0,     0,     0,     0,     0,\n",
      "            0,     0,     0,     0,     0,     0,     0,     0,     0,     0,\n",
      "            0,     0,     0,     0,     0,     0,     0,     0,     0,     0,\n",
      "            0,     0,     0,     0,     0,     0,     0,     0,     0,     0,\n",
      "            0,     0,     0,     0,     0,     0,     0]), 'token_type_ids': tensor([0, 0, 0, 0, 0, 0, 0, 0, 0, 0, 0, 0, 0, 0, 0, 0, 0, 0, 0, 0, 0, 0, 0, 0,\n",
      "        0, 0, 0, 0, 0, 0, 0, 0, 0, 0, 0, 0, 0, 0, 0, 0, 0, 0, 0, 0, 0, 0, 0, 0,\n",
      "        0, 0, 0, 0, 0, 0, 0, 0, 0, 0, 0, 0, 0, 0, 0, 0, 0, 0, 0, 0, 0, 0, 0, 0,\n",
      "        0, 0, 0, 0, 0, 0, 0, 0, 0, 0, 0, 0, 0, 0, 0, 0, 0, 0, 0, 0, 0, 0, 0, 0,\n",
      "        0]), 'attention_mask': tensor([1, 1, 1, 1, 1, 1, 1, 1, 1, 1, 1, 1, 1, 1, 1, 1, 1, 1, 1, 1, 1, 1, 1, 1,\n",
      "        1, 1, 1, 1, 1, 1, 1, 1, 1, 1, 1, 1, 1, 1, 1, 1, 1, 1, 0, 0, 0, 0, 0, 0,\n",
      "        0, 0, 0, 0, 0, 0, 0, 0, 0, 0, 0, 0, 0, 0, 0, 0, 0, 0, 0, 0, 0, 0, 0, 0,\n",
      "        0, 0, 0, 0, 0, 0, 0, 0, 0, 0, 0, 0, 0, 0, 0, 0, 0, 0, 0, 0, 0, 0, 0, 0,\n",
      "        0])} tensor(5)\n"
     ]
    }
   ],
   "source": [
    "inputs, labels = dataset[0]\n",
    "print(inputs, labels) "
   ]
  },
  {
   "cell_type": "code",
   "execution_count": 20,
   "id": "e663e719",
   "metadata": {
    "execution": {
     "iopub.execute_input": "2022-03-07T09:34:11.829109Z",
     "iopub.status.busy": "2022-03-07T09:34:11.828536Z",
     "iopub.status.idle": "2022-03-07T09:34:11.833320Z",
     "shell.execute_reply": "2022-03-07T09:34:11.832879Z",
     "shell.execute_reply.started": "2022-03-07T05:21:17.112304Z"
    },
    "papermill": {
     "duration": 0.070337,
     "end_time": "2022-03-07T09:34:11.833426",
     "exception": false,
     "start_time": "2022-03-07T09:34:11.763089",
     "status": "completed"
    },
    "tags": []
   },
   "outputs": [],
   "source": [
    "config.train_size = len(dataset) - config.val_size\n",
    "train_ds, val_ds = random_split(dataset, [config.train_size, config.val_size])"
   ]
  },
  {
   "cell_type": "code",
   "execution_count": 21,
   "id": "13aebcc2",
   "metadata": {
    "execution": {
     "iopub.execute_input": "2022-03-07T09:34:11.960618Z",
     "iopub.status.busy": "2022-03-07T09:34:11.959651Z",
     "iopub.status.idle": "2022-03-07T09:34:11.961615Z",
     "shell.execute_reply": "2022-03-07T09:34:11.962052Z",
     "shell.execute_reply.started": "2022-03-07T05:21:17.120075Z"
    },
    "papermill": {
     "duration": 0.068102,
     "end_time": "2022-03-07T09:34:11.962169",
     "exception": false,
     "start_time": "2022-03-07T09:34:11.894067",
     "status": "completed"
    },
    "tags": []
   },
   "outputs": [],
   "source": [
    "train_loader = DataLoader(train_ds, config.batch_size, shuffle=True,\n",
    "                          num_workers=config.num_workers, \n",
    "                          pin_memory=config.pin_memory)\n",
    "\n",
    "\n",
    "val_loader = DataLoader(val_ds, config.batch_size, shuffle=False, \n",
    "                        num_workers=config.num_workers, \n",
    "                        pin_memory=config.pin_memory)"
   ]
  },
  {
   "cell_type": "code",
   "execution_count": 22,
   "id": "708e3f7a",
   "metadata": {
    "execution": {
     "iopub.execute_input": "2022-03-07T09:34:12.195939Z",
     "iopub.status.busy": "2022-03-07T09:34:12.140196Z",
     "iopub.status.idle": "2022-03-07T09:34:16.806608Z",
     "shell.execute_reply": "2022-03-07T09:34:16.807277Z",
     "shell.execute_reply.started": "2022-03-07T05:21:17.128307Z"
    },
    "papermill": {
     "duration": 4.784964,
     "end_time": "2022-03-07T09:34:16.807486",
     "exception": false,
     "start_time": "2022-03-07T09:34:12.022522",
     "status": "completed"
    },
    "tags": []
   },
   "outputs": [
    {
     "name": "stdout",
     "output_type": "stream",
     "text": [
      "{'input_ids': tensor([[ 101, 1996, 8241,  ...,    0,    0,    0],\n",
      "        [ 101, 2079, 2025,  ...,    0,    0,    0],\n",
      "        [ 101, 2096, 2057,  ...,    0,    0,    0],\n",
      "        ...,\n",
      "        [ 101, 2009, 2165,  ...,    0,    0,    0],\n",
      "        [ 101, 6980, 3561,  ...,    0,    0,    0],\n",
      "        [ 101, 4593, 1010,  ...,    0,    0,    0]]), 'token_type_ids': tensor([[0, 0, 0,  ..., 0, 0, 0],\n",
      "        [0, 0, 0,  ..., 0, 0, 0],\n",
      "        [0, 0, 0,  ..., 0, 0, 0],\n",
      "        ...,\n",
      "        [0, 0, 0,  ..., 0, 0, 0],\n",
      "        [0, 0, 0,  ..., 0, 0, 0],\n",
      "        [0, 0, 0,  ..., 0, 0, 0]]), 'attention_mask': tensor([[1, 1, 1,  ..., 0, 0, 0],\n",
      "        [1, 1, 1,  ..., 0, 0, 0],\n",
      "        [1, 1, 1,  ..., 0, 0, 0],\n",
      "        ...,\n",
      "        [1, 1, 1,  ..., 0, 0, 0],\n",
      "        [1, 1, 1,  ..., 0, 0, 0],\n",
      "        [1, 1, 1,  ..., 0, 0, 0]])}\n",
      "\n",
      "tensor([23,  1,  3,  7,  7, 20,  8,  7, 23,  3,  2,  5,  7,  9,  3,  7])\n"
     ]
    }
   ],
   "source": [
    "for input, label in train_loader:\n",
    "    print(input)\n",
    "    print()\n",
    "    print(label)\n",
    "    break"
   ]
  },
  {
   "cell_type": "code",
   "execution_count": 23,
   "id": "0b6958f3",
   "metadata": {
    "execution": {
     "iopub.execute_input": "2022-03-07T09:34:17.051204Z",
     "iopub.status.busy": "2022-03-07T09:34:17.050149Z",
     "iopub.status.idle": "2022-03-07T09:34:17.052295Z",
     "shell.execute_reply": "2022-03-07T09:34:17.053103Z",
     "shell.execute_reply.started": "2022-03-07T05:21:19.468404Z"
    },
    "papermill": {
     "duration": 0.176316,
     "end_time": "2022-03-07T09:34:17.053344",
     "exception": false,
     "start_time": "2022-03-07T09:34:16.877028",
     "status": "completed"
    },
    "tags": []
   },
   "outputs": [],
   "source": [
    "def get_one_hot(outputs, k=2):\n",
    "    outputs = outputs.detach()\n",
    "    x = torch.topk(outputs, k)\n",
    "    for i, t in enumerate(outputs):\n",
    "#         x = torch.topk(t, k[i])\n",
    "        for j, _ in enumerate(t):\n",
    "            if j in x.indices[i]:\n",
    "                t[j] = 1\n",
    "            else:\n",
    "                t[j] = 0\n",
    "            outputs[i] = t\n",
    "\n",
    "    outputs.requires_grad = True\n",
    "    return outputs.to(torch.float)\n",
    "\n",
    "def get_accuracy(outputs, labels):\n",
    "    preds = torch.argmax(outputs, dim=1)\n",
    "    return (preds == labels).sum()\n",
    "\n",
    "def one_hot_acc(one_hot_outputs, labels):\n",
    "    result = torch.all(one_hot_outputs.eq(labels))\n",
    "    return result.sum()"
   ]
  },
  {
   "cell_type": "code",
   "execution_count": 24,
   "id": "e73fd027",
   "metadata": {
    "execution": {
     "iopub.execute_input": "2022-03-07T09:34:17.547379Z",
     "iopub.status.busy": "2022-03-07T09:34:17.546556Z",
     "iopub.status.idle": "2022-03-07T09:34:17.549306Z",
     "shell.execute_reply": "2022-03-07T09:34:17.548821Z",
     "shell.execute_reply.started": "2022-03-07T05:21:19.478213Z"
    },
    "papermill": {
     "duration": 0.072963,
     "end_time": "2022-03-07T09:34:17.549441",
     "exception": false,
     "start_time": "2022-03-07T09:34:17.476478",
     "status": "completed"
    },
    "tags": []
   },
   "outputs": [],
   "source": [
    "model = BertForABSA(bert)"
   ]
  },
  {
   "cell_type": "markdown",
   "id": "3b633b52",
   "metadata": {
    "papermill": {
     "duration": 0.067198,
     "end_time": "2022-03-07T09:34:17.686189",
     "exception": false,
     "start_time": "2022-03-07T09:34:17.618991",
     "status": "completed"
    },
    "tags": []
   },
   "source": [
    "## Training our Model(s)"
   ]
  },
  {
   "cell_type": "code",
   "execution_count": 25,
   "id": "5c3c8889",
   "metadata": {
    "execution": {
     "iopub.execute_input": "2022-03-07T09:34:17.844031Z",
     "iopub.status.busy": "2022-03-07T09:34:17.842971Z",
     "iopub.status.idle": "2022-03-07T09:34:17.847045Z",
     "shell.execute_reply": "2022-03-07T09:34:17.846583Z",
     "shell.execute_reply.started": "2022-03-07T05:21:19.502783Z"
    },
    "papermill": {
     "duration": 0.093884,
     "end_time": "2022-03-07T09:34:17.847174",
     "exception": false,
     "start_time": "2022-03-07T09:34:17.753290",
     "status": "completed"
    },
    "tags": []
   },
   "outputs": [],
   "source": [
    "def train(model, train_dataloader, val_dataloader, learning_rate, epochs):\n",
    "    # track the time and history\n",
    "    start = perf_counter()\n",
    "    history = []\n",
    "    # check for cuda use\n",
    "    use_cuda = torch.cuda.is_available()\n",
    "    device = torch.device(\"cuda\" if use_cuda else \"cpu\")\n",
    "    if use_cuda:\n",
    "        torch.cuda.empty_cache()\n",
    "    \n",
    "    # prepare optimizer, loss-criterion and lr-scheduler\n",
    "#     criterion = nn.BCELoss()\n",
    "    criterion = nn.CrossEntropyLoss()\n",
    "    optimizer = optim.AdamW(model.parameters(), lr=learning_rate)\n",
    "    num_training_steps = epochs * len(train_dataloader)\n",
    "    lr_scheduler = get_scheduler(name=\"linear\", optimizer=optimizer, \n",
    "                                 num_warmup_steps=0, \n",
    "                                 num_training_steps=num_training_steps)\n",
    "    \n",
    "    # prepare a progress bar\n",
    "    progress_bar = tqdm(range(num_training_steps))\n",
    "    \n",
    "    # move model to the GPU\n",
    "    if use_cuda:\n",
    "            # linear = linear.cuda()\n",
    "            model = model.cuda()\n",
    "            criterion = criterion.cuda()\n",
    "    \n",
    "    # Start Epoch wise training\n",
    "    for epoch_num in range(epochs):\n",
    "        epoch_start = perf_counter()\n",
    "        total_acc_train = 0\n",
    "        total_loss_train = 0\n",
    "        \n",
    "        # Training Phase\n",
    "        model.train()\n",
    "        for inputs, label in train_dataloader:\n",
    "            label = label.to(torch.long)\n",
    "            label = label.to(device)\n",
    "            # label = torch.argmax(label, dim=1)\n",
    "            \n",
    "            inputs['attention_mask'] = inputs['attention_mask'].to(device)\n",
    "            inputs['input_ids'] = inputs['input_ids'].to(device)\n",
    "            inputs['token_type_ids'] = inputs['token_type_ids'].to(device)\n",
    "\n",
    "            outputs = model(**inputs)\n",
    "            ## k = label.sum(dim=1).to(torch.int)\n",
    "            ## assert len(k) == config.batch_size\n",
    "#           ##  one_hot_outputs = get_one_hot(outputs)       \n",
    "            \n",
    "            # loss calculation step \n",
    "            batch_loss = criterion(outputs, label)\n",
    "            # batch_loss = criterion(one_hot_outputs, label)\n",
    "            batch_loss.backward()\n",
    "            \n",
    "            # collate losses and acc.\n",
    "            total_loss_train += batch_loss.item()\n",
    "            acc = get_accuracy(outputs, label)\n",
    "            # acc = one_hot_acc(one_hot_outputs, label)\n",
    "            total_acc_train += acc\n",
    "            \n",
    "            # Update step\n",
    "            optimizer.step()\n",
    "            lr_scheduler.step()\n",
    "            optimizer.zero_grad()\n",
    "            progress_bar.update(1)\n",
    "\n",
    "        # Validation Phase\n",
    "        total_acc_val = 0\n",
    "        total_loss_val = 0\n",
    "        model.eval()\n",
    "        with torch.no_grad():\n",
    "            for val_input, val_label in val_dataloader:\n",
    "                val_label = val_label.to(torch.long)\n",
    "                val_label = val_label.to(device)\n",
    "#                 val_label = torch.argmax(val_label, dim=1)\n",
    "\n",
    "                val_input['attention_mask'] = val_input['attention_mask'].to(device)\n",
    "                val_input['input_ids'] = val_input['input_ids'].to(device)\n",
    "                val_input['token_type_ids'] = val_input['token_type_ids'].to(device)\n",
    "\n",
    "                outputs = model(**val_input)\n",
    "#                 k = label.sum(dim=1).to(torch.int)\n",
    "#                 assert len(k) == config.batch_size\n",
    "#                 one_hot_outputs = get_one_hot(outputs)       \n",
    "\n",
    "                batch_loss = criterion(outputs, val_label)\n",
    "#                 batch_loss = criterion(one_hot_outputs, val_label)\n",
    "                total_loss_val += batch_loss.item()\n",
    "                \n",
    "                acc = get_accuracy(outputs, val_label)\n",
    "#                 acc = one_hot_acc(one_hot_outputs, label)\n",
    "                total_acc_val += acc\n",
    "        \n",
    "        # measure epoch-time        \n",
    "        epoch_time = perf_counter() - epoch_start\n",
    "        \n",
    "        # print results\n",
    "        print(f'\\nEpochs: {epoch_num + 1}/{epochs} | Train Loss: {total_loss_train / len(train_ds): .3f} \\\n",
    "| Train Accuracy: {total_acc_train / len(train_ds): .3f} | Val Loss: {total_loss_val / len(val_ds): .3f} \\\n",
    "| Val Accuracy: {total_acc_val / len(val_ds): .3f} | Epoch Time: {epoch_time//60:.0f}m {epoch_time%60:.2f}s')\n",
    "        \n",
    "        # store results\n",
    "        result = {'epoch': epoch_num + 1, \n",
    "                  'train_loss': total_loss_train / len(train_ds),\n",
    "                  'train_acc': total_acc_train / len(train_ds),\n",
    "                  'val_loss': total_loss_val / len(val_ds),\n",
    "                  'val_acc': total_acc_val / len(val_ds),\n",
    "                  'epoch_time': epoch_time\n",
    "                 }\n",
    "        history.append(result)\n",
    "    \n",
    "    time_taken = perf_counter() - start\n",
    "    print(f\"\\nTime Taken to train the model: {time_taken//60:.0f}m {time_taken%60:.2f}s\")\n",
    "    \n",
    "    return history"
   ]
  },
  {
   "cell_type": "code",
   "execution_count": 26,
   "id": "ada560a9",
   "metadata": {
    "execution": {
     "iopub.execute_input": "2022-03-07T09:34:18.004110Z",
     "iopub.status.busy": "2022-03-07T09:34:18.003111Z",
     "iopub.status.idle": "2022-03-07T09:34:18.005111Z",
     "shell.execute_reply": "2022-03-07T09:34:18.005595Z",
     "shell.execute_reply.started": "2022-03-07T05:21:19.523385Z"
    },
    "papermill": {
     "duration": 0.089122,
     "end_time": "2022-03-07T09:34:18.005750",
     "exception": false,
     "start_time": "2022-03-07T09:34:17.916628",
     "status": "completed"
    },
    "tags": []
   },
   "outputs": [],
   "source": [
    "def train_together(model, train_dataloader, val_dataloader, learning_rate, epochs):\n",
    "    # track the time and history\n",
    "    start = perf_counter()\n",
    "    history = []\n",
    "    # check for cuda use\n",
    "    use_cuda = torch.cuda.is_available()\n",
    "    device = torch.device(\"cuda\" if use_cuda else \"cpu\")\n",
    "    if use_cuda:\n",
    "        torch.cuda.empty_cache()\n",
    "    \n",
    "    # prepare optimizer, loss-criterion and lr-scheduler\n",
    "    criterion = nn.BCELoss()\n",
    "#     criterion = nn.CrossEntropyLoss()\n",
    "    optimizer = optim.AdamW(model.parameters(), lr=learning_rate)\n",
    "    num_training_steps = epochs * len(train_dataloader)\n",
    "    lr_scheduler = get_scheduler(name=\"linear\", optimizer=optimizer, \n",
    "                                 num_warmup_steps=0, \n",
    "                                 num_training_steps=num_training_steps)\n",
    "    \n",
    "    # prepare a progress bar\n",
    "    progress_bar = tqdm(range(num_training_steps))\n",
    "    \n",
    "    # move model to the GPU\n",
    "    if use_cuda:\n",
    "            # linear = linear.cuda()\n",
    "            model = model.cuda()\n",
    "            criterion = criterion.cuda()\n",
    "    \n",
    "    # Start Epoch wise training\n",
    "    for epoch_num in range(epochs):\n",
    "        epoch_start = perf_counter()\n",
    "        total_acc_train = 0\n",
    "        total_loss_train = 0\n",
    "        \n",
    "        # Training Phase\n",
    "        model.train()\n",
    "        for inputs, label in train_dataloader:\n",
    "#             label = label.to(torch.long)\n",
    "            label = label.to(device)\n",
    "            # label = torch.argmax(label, dim=1)\n",
    "            \n",
    "            inputs['attention_mask'] = inputs['attention_mask'].to(device)\n",
    "            inputs['input_ids'] = inputs['input_ids'].to(device)\n",
    "            inputs['token_type_ids'] = inputs['token_type_ids'].to(device)\n",
    "\n",
    "            outputs = model(**inputs)\n",
    "            ## k = label.sum(dim=1).to(torch.int)\n",
    "            ## assert len(k) == config.batch_size\n",
    "            one_hot_outputs = get_one_hot(outputs)       \n",
    "            \n",
    "            # loss calculation step \n",
    "#             batch_loss = criterion(outputs, label)\n",
    "            batch_loss = criterion(one_hot_outputs, label)\n",
    "            batch_loss.backward()\n",
    "            \n",
    "            # collate losses and acc.\n",
    "            total_loss_train += batch_loss.item()\n",
    "#             acc = get_accuracy(outputs, label)\n",
    "            try:\n",
    "                acc = one_hot_acc(one_hot_outputs, label)\n",
    "            except:\n",
    "                acc = 0\n",
    "            total_acc_train += acc\n",
    "            \n",
    "            # Update step\n",
    "            optimizer.step()\n",
    "            lr_scheduler.step()\n",
    "            optimizer.zero_grad()\n",
    "            progress_bar.update(1)\n",
    "\n",
    "        # Validation Phase\n",
    "        total_acc_val = 0\n",
    "        total_loss_val = 0\n",
    "        model.eval()\n",
    "        with torch.no_grad():\n",
    "            for val_input, val_label in val_dataloader:\n",
    "#                 val_label = val_label.to(torch.long)\n",
    "                val_label = val_label.to(device)\n",
    "#                 val_label = torch.argmax(val_label, dim=1)\n",
    "\n",
    "                val_input['attention_mask'] = val_input['attention_mask'].to(device)\n",
    "                val_input['input_ids'] = val_input['input_ids'].to(device)\n",
    "                val_input['token_type_ids'] = val_input['token_type_ids'].to(device)\n",
    "\n",
    "                outputs = model(**val_input)\n",
    "#                 k = label.sum(dim=1).to(torch.int)\n",
    "#                 assert len(k) == config.batch_size\n",
    "                one_hot_outputs = get_one_hot(outputs)       \n",
    "\n",
    "#                 batch_loss = criterion(outputs, val_label)\n",
    "                batch_loss = criterion(one_hot_outputs, val_label)\n",
    "                total_loss_val += batch_loss.item()\n",
    "                \n",
    "#                 acc = get_accuracy(outputs, val_label)\n",
    "                try:\n",
    "                    acc = one_hot_acc(one_hot_outputs, label)\n",
    "                except:\n",
    "                    acc = 0\n",
    "                total_acc_val += acc\n",
    "        \n",
    "        # measure epoch-time        \n",
    "        epoch_time = perf_counter() - epoch_start\n",
    "        \n",
    "        # print results\n",
    "        print(f'\\nEpochs: {epoch_num + 1}/{epochs} | Train Loss: {total_loss_train / len(train_ds): .3f} \\\n",
    "| Train Accuracy: {total_acc_train / len(train_ds): .3f} | Val Loss: {total_loss_val / len(val_ds): .3f} \\\n",
    "| Val Accuracy: {total_acc_val / len(val_ds): .3f} | Epoch Time: {epoch_time//60:.0f}m {epoch_time%60:.2f}s')\n",
    "        \n",
    "        # store results\n",
    "        result = {'epoch': epoch_num + 1, \n",
    "                  'train_loss': total_loss_train / len(train_ds),\n",
    "                  'train_acc': total_acc_train / len(train_ds),\n",
    "                  'val_loss': total_loss_val / len(val_ds),\n",
    "                  'val_acc': total_acc_val / len(val_ds),\n",
    "                  'epoch_time': epoch_time\n",
    "                 }\n",
    "        history.append(result)\n",
    "    \n",
    "    time_taken = perf_counter() - start\n",
    "    print(f\"\\nTime Taken to train the model: {time_taken//60:.0f}m {time_taken%60:.2f}s\")\n",
    "    \n",
    "    return history"
   ]
  },
  {
   "cell_type": "markdown",
   "id": "01961901",
   "metadata": {
    "papermill": {
     "duration": 0.061364,
     "end_time": "2022-03-07T09:34:18.131749",
     "exception": false,
     "start_time": "2022-03-07T09:34:18.070385",
     "status": "completed"
    },
    "tags": []
   },
   "source": [
    "### Training 1st model for 1st AE and ASC"
   ]
  },
  {
   "cell_type": "code",
   "execution_count": 27,
   "id": "daaeca4c",
   "metadata": {
    "execution": {
     "iopub.execute_input": "2022-03-07T09:34:18.272773Z",
     "iopub.status.busy": "2022-03-07T09:34:18.271981Z",
     "iopub.status.idle": "2022-03-07T09:40:21.399700Z",
     "shell.execute_reply": "2022-03-07T09:40:21.400317Z",
     "shell.execute_reply.started": "2022-03-07T05:21:19.545142Z"
    },
    "papermill": {
     "duration": 363.207826,
     "end_time": "2022-03-07T09:40:21.400520",
     "exception": false,
     "start_time": "2022-03-07T09:34:18.192694",
     "status": "completed"
    },
    "tags": []
   },
   "outputs": [
    {
     "data": {
      "application/vnd.jupyter.widget-view+json": {
       "model_id": "2bb6cb92e9464b7e94708df54aaa5b85",
       "version_major": 2,
       "version_minor": 0
      },
      "text/plain": [
       "  0%|          | 0/2050 [00:00<?, ?it/s]"
      ]
     },
     "metadata": {},
     "output_type": "display_data"
    },
    {
     "name": "stdout",
     "output_type": "stream",
     "text": [
      "\n",
      "Epochs: 1/5 | Train Loss:  0.125 | Train Accuracy:  0.451 | Val Loss:  0.077 | Val Accuracy:  0.668 | Epoch Time: 1m 13.01s\n",
      "\n",
      "Epochs: 2/5 | Train Loss:  0.056 | Train Accuracy:  0.769 | Val Loss:  0.038 | Val Accuracy:  0.868 | Epoch Time: 1m 12.32s\n",
      "\n",
      "Epochs: 3/5 | Train Loss:  0.022 | Train Accuracy:  0.921 | Val Loss:  0.018 | Val Accuracy:  0.942 | Epoch Time: 1m 12.99s\n",
      "\n",
      "Epochs: 4/5 | Train Loss:  0.010 | Train Accuracy:  0.976 | Val Loss:  0.012 | Val Accuracy:  0.962 | Epoch Time: 1m 12.22s\n",
      "\n",
      "Epochs: 5/5 | Train Loss:  0.006 | Train Accuracy:  0.989 | Val Loss:  0.010 | Val Accuracy:  0.972 | Epoch Time: 1m 12.36s\n",
      "\n",
      "Time Taken to train the model: 6m 3.07s\n"
     ]
    }
   ],
   "source": [
    "history = train(model, train_loader, val_loader, 5e-5, 5)"
   ]
  },
  {
   "cell_type": "markdown",
   "id": "b7cd79bd",
   "metadata": {
    "papermill": {
     "duration": 0.062436,
     "end_time": "2022-03-07T09:40:21.526748",
     "exception": false,
     "start_time": "2022-03-07T09:40:21.464312",
     "status": "completed"
    },
    "tags": []
   },
   "source": [
    "### Training 2nd model for 2nd AE and ASC"
   ]
  },
  {
   "cell_type": "code",
   "execution_count": 28,
   "id": "86b23965",
   "metadata": {
    "execution": {
     "iopub.execute_input": "2022-03-07T09:40:21.660185Z",
     "iopub.status.busy": "2022-03-07T09:40:21.659198Z",
     "iopub.status.idle": "2022-03-07T09:40:21.674073Z",
     "shell.execute_reply": "2022-03-07T09:40:21.674514Z",
     "shell.execute_reply.started": "2022-03-07T05:27:21.987228Z"
    },
    "papermill": {
     "duration": 0.084944,
     "end_time": "2022-03-07T09:40:21.674648",
     "exception": false,
     "start_time": "2022-03-07T09:40:21.589704",
     "status": "completed"
    },
    "tags": []
   },
   "outputs": [
    {
     "data": {
      "text/html": [
       "<div>\n",
       "<style scoped>\n",
       "    .dataframe tbody tr th:only-of-type {\n",
       "        vertical-align: middle;\n",
       "    }\n",
       "\n",
       "    .dataframe tbody tr th {\n",
       "        vertical-align: top;\n",
       "    }\n",
       "\n",
       "    .dataframe thead th {\n",
       "        text-align: right;\n",
       "    }\n",
       "</style>\n",
       "<table border=\"1\" class=\"dataframe\">\n",
       "  <thead>\n",
       "    <tr style=\"text-align: right;\">\n",
       "      <th></th>\n",
       "      <th>reviews</th>\n",
       "      <th>aspect1</th>\n",
       "      <th>sentiment1</th>\n",
       "      <th>aspect2</th>\n",
       "      <th>sentiment2</th>\n",
       "      <th>aspect3</th>\n",
       "      <th>sentiment3</th>\n",
       "      <th>aspect4</th>\n",
       "      <th>sentiment4</th>\n",
       "      <th>aspect5</th>\n",
       "      <th>sentiment5</th>\n",
       "      <th>one_hot</th>\n",
       "      <th>labels1</th>\n",
       "      <th>labels2</th>\n",
       "    </tr>\n",
       "  </thead>\n",
       "  <tbody>\n",
       "    <tr>\n",
       "      <th>0</th>\n",
       "      <td>It might be the best sit down food I've had in...</td>\n",
       "      <td>2</td>\n",
       "      <td>3</td>\n",
       "      <td>5</td>\n",
       "      <td>2</td>\n",
       "      <td>None</td>\n",
       "      <td>None</td>\n",
       "      <td>None</td>\n",
       "      <td>None</td>\n",
       "      <td>None</td>\n",
       "      <td>None</td>\n",
       "      <td>[0, 0, 0, 1, 0, 0, 0, 0, 0, 0, 0, 0, 0, 1, 0, ...</td>\n",
       "      <td>5</td>\n",
       "      <td>9</td>\n",
       "    </tr>\n",
       "    <tr>\n",
       "      <th>1</th>\n",
       "      <td>It might be the best sit down food I've had in...</td>\n",
       "      <td>2</td>\n",
       "      <td>3</td>\n",
       "      <td>5</td>\n",
       "      <td>2</td>\n",
       "      <td>None</td>\n",
       "      <td>None</td>\n",
       "      <td>None</td>\n",
       "      <td>None</td>\n",
       "      <td>None</td>\n",
       "      <td>None</td>\n",
       "      <td>[0, 0, 0, 1, 0, 0, 0, 0, 0, 0, 0, 0, 0, 1, 0, ...</td>\n",
       "      <td>5</td>\n",
       "      <td>9</td>\n",
       "    </tr>\n",
       "    <tr>\n",
       "      <th>2</th>\n",
       "      <td>Hostess was extremely accommodating when we ar...</td>\n",
       "      <td>8</td>\n",
       "      <td>3</td>\n",
       "      <td>4</td>\n",
       "      <td>2</td>\n",
       "      <td>None</td>\n",
       "      <td>None</td>\n",
       "      <td>None</td>\n",
       "      <td>None</td>\n",
       "      <td>None</td>\n",
       "      <td>None</td>\n",
       "      <td>[0, 0, 0, 0, 0, 0, 0, 0, 0, 0, 1, 0, 0, 0, 0, ...</td>\n",
       "      <td>23</td>\n",
       "      <td>7</td>\n",
       "    </tr>\n",
       "    <tr>\n",
       "      <th>3</th>\n",
       "      <td>Hostess was extremely accommodating when we ar...</td>\n",
       "      <td>8</td>\n",
       "      <td>3</td>\n",
       "      <td>4</td>\n",
       "      <td>2</td>\n",
       "      <td>None</td>\n",
       "      <td>None</td>\n",
       "      <td>None</td>\n",
       "      <td>None</td>\n",
       "      <td>None</td>\n",
       "      <td>None</td>\n",
       "      <td>[0, 0, 0, 0, 0, 0, 0, 0, 0, 0, 1, 0, 0, 0, 0, ...</td>\n",
       "      <td>23</td>\n",
       "      <td>7</td>\n",
       "    </tr>\n",
       "    <tr>\n",
       "      <th>4</th>\n",
       "      <td>We were a couple of minutes late for our reser...</td>\n",
       "      <td>4</td>\n",
       "      <td>2</td>\n",
       "      <td>8</td>\n",
       "      <td>1</td>\n",
       "      <td>None</td>\n",
       "      <td>None</td>\n",
       "      <td>None</td>\n",
       "      <td>None</td>\n",
       "      <td>None</td>\n",
       "      <td>None</td>\n",
       "      <td>[0, 0, 0, 0, 0, 0, 0, 0, 0, 0, 1, 0, 0, 0, 0, ...</td>\n",
       "      <td>7</td>\n",
       "      <td>7</td>\n",
       "    </tr>\n",
       "  </tbody>\n",
       "</table>\n",
       "</div>"
      ],
      "text/plain": [
       "                                             reviews  aspect1  sentiment1  \\\n",
       "0  It might be the best sit down food I've had in...        2           3   \n",
       "1  It might be the best sit down food I've had in...        2           3   \n",
       "2  Hostess was extremely accommodating when we ar...        8           3   \n",
       "3  Hostess was extremely accommodating when we ar...        8           3   \n",
       "4  We were a couple of minutes late for our reser...        4           2   \n",
       "\n",
       "   aspect2  sentiment2 aspect3 sentiment3 aspect4 sentiment4 aspect5  \\\n",
       "0        5           2    None       None    None       None    None   \n",
       "1        5           2    None       None    None       None    None   \n",
       "2        4           2    None       None    None       None    None   \n",
       "3        4           2    None       None    None       None    None   \n",
       "4        8           1    None       None    None       None    None   \n",
       "\n",
       "  sentiment5                                            one_hot  labels1  \\\n",
       "0       None  [0, 0, 0, 1, 0, 0, 0, 0, 0, 0, 0, 0, 0, 1, 0, ...        5   \n",
       "1       None  [0, 0, 0, 1, 0, 0, 0, 0, 0, 0, 0, 0, 0, 1, 0, ...        5   \n",
       "2       None  [0, 0, 0, 0, 0, 0, 0, 0, 0, 0, 1, 0, 0, 0, 0, ...       23   \n",
       "3       None  [0, 0, 0, 0, 0, 0, 0, 0, 0, 0, 1, 0, 0, 0, 0, ...       23   \n",
       "4       None  [0, 0, 0, 0, 0, 0, 0, 0, 0, 0, 1, 0, 0, 0, 0, ...        7   \n",
       "\n",
       "   labels2  \n",
       "0        9  \n",
       "1        9  \n",
       "2        7  \n",
       "3        7  \n",
       "4        7  "
      ]
     },
     "execution_count": 28,
     "metadata": {},
     "output_type": "execute_result"
    }
   ],
   "source": [
    "df.head()"
   ]
  },
  {
   "cell_type": "code",
   "execution_count": 29,
   "id": "fb354c77",
   "metadata": {
    "execution": {
     "iopub.execute_input": "2022-03-07T09:40:21.846248Z",
     "iopub.status.busy": "2022-03-07T09:40:21.836010Z",
     "iopub.status.idle": "2022-03-07T09:40:28.233006Z",
     "shell.execute_reply": "2022-03-07T09:40:28.233711Z",
     "shell.execute_reply.started": "2022-03-07T05:27:22.007194Z"
    },
    "papermill": {
     "duration": 6.495675,
     "end_time": "2022-03-07T09:40:28.233945",
     "exception": false,
     "start_time": "2022-03-07T09:40:21.738270",
     "status": "completed"
    },
    "tags": []
   },
   "outputs": [
    {
     "name": "stdout",
     "output_type": "stream",
     "text": [
      "Starting Process ...\n",
      "Using tokenizer on all texts ...\n",
      "Texts padded or truncated to 97 length!\n",
      "Finished!\n",
      "\n"
     ]
    }
   ],
   "source": [
    "dataset2 = ReviewsDataset(df, tokenizer, label_col='labels2')\n",
    "train_ds2, val_ds2 = random_split(dataset2, [config.train_size, config.val_size])"
   ]
  },
  {
   "cell_type": "code",
   "execution_count": 30,
   "id": "bf26a748",
   "metadata": {
    "execution": {
     "iopub.execute_input": "2022-03-07T09:40:28.368279Z",
     "iopub.status.busy": "2022-03-07T09:40:28.367415Z",
     "iopub.status.idle": "2022-03-07T09:40:28.370911Z",
     "shell.execute_reply": "2022-03-07T09:40:28.371317Z",
     "shell.execute_reply.started": "2022-03-07T05:27:28.10723Z"
    },
    "papermill": {
     "duration": 0.071887,
     "end_time": "2022-03-07T09:40:28.371452",
     "exception": false,
     "start_time": "2022-03-07T09:40:28.299565",
     "status": "completed"
    },
    "tags": []
   },
   "outputs": [
    {
     "name": "stdout",
     "output_type": "stream",
     "text": [
      "tensor(3)\n"
     ]
    }
   ],
   "source": [
    "i, l = train_ds2[0]\n",
    "print(l)"
   ]
  },
  {
   "cell_type": "code",
   "execution_count": 31,
   "id": "88fe93d5",
   "metadata": {
    "execution": {
     "iopub.execute_input": "2022-03-07T09:40:28.505733Z",
     "iopub.status.busy": "2022-03-07T09:40:28.502294Z",
     "iopub.status.idle": "2022-03-07T09:40:28.508049Z",
     "shell.execute_reply": "2022-03-07T09:40:28.507663Z",
     "shell.execute_reply.started": "2022-03-07T05:27:28.118198Z"
    },
    "papermill": {
     "duration": 0.07218,
     "end_time": "2022-03-07T09:40:28.508152",
     "exception": false,
     "start_time": "2022-03-07T09:40:28.435972",
     "status": "completed"
    },
    "tags": []
   },
   "outputs": [],
   "source": [
    "train_loader2 = DataLoader(train_ds2, config.batch_size, shuffle=True,\n",
    "                          num_workers=config.num_workers, \n",
    "                          pin_memory=config.pin_memory)\n",
    "\n",
    "\n",
    "val_loader2 = DataLoader(val_ds2, config.batch_size, shuffle=False, \n",
    "                        num_workers=config.num_workers, \n",
    "                        pin_memory=config.pin_memory)"
   ]
  },
  {
   "cell_type": "code",
   "execution_count": 32,
   "id": "f88aceb0",
   "metadata": {
    "execution": {
     "iopub.execute_input": "2022-03-07T09:40:28.645530Z",
     "iopub.status.busy": "2022-03-07T09:40:28.644994Z",
     "iopub.status.idle": "2022-03-07T09:40:30.396532Z",
     "shell.execute_reply": "2022-03-07T09:40:30.397142Z",
     "shell.execute_reply.started": "2022-03-07T05:27:28.12963Z"
    },
    "papermill": {
     "duration": 1.824741,
     "end_time": "2022-03-07T09:40:30.397356",
     "exception": false,
     "start_time": "2022-03-07T09:40:28.572615",
     "status": "completed"
    },
    "tags": []
   },
   "outputs": [
    {
     "name": "stderr",
     "output_type": "stream",
     "text": [
      "Some weights of the model checkpoint at bert-base-uncased were not used when initializing BertModel: ['cls.predictions.transform.LayerNorm.bias', 'cls.predictions.transform.LayerNorm.weight', 'cls.predictions.transform.dense.weight', 'cls.predictions.decoder.weight', 'cls.seq_relationship.bias', 'cls.predictions.bias', 'cls.seq_relationship.weight', 'cls.predictions.transform.dense.bias']\n",
      "- This IS expected if you are initializing BertModel from the checkpoint of a model trained on another task or with another architecture (e.g. initializing a BertForSequenceClassification model from a BertForPreTraining model).\n",
      "- This IS NOT expected if you are initializing BertModel from the checkpoint of a model that you expect to be exactly identical (initializing a BertForSequenceClassification model from a BertForSequenceClassification model).\n"
     ]
    }
   ],
   "source": [
    "bert2 = BertModel.from_pretrained(\"bert-base-uncased\")\n",
    "model2 = BertForABSA(bert2)"
   ]
  },
  {
   "cell_type": "code",
   "execution_count": 33,
   "id": "0ea2d34e",
   "metadata": {
    "execution": {
     "iopub.execute_input": "2022-03-07T09:40:30.647299Z",
     "iopub.status.busy": "2022-03-07T09:40:30.646246Z",
     "iopub.status.idle": "2022-03-07T09:46:32.733697Z",
     "shell.execute_reply": "2022-03-07T09:46:32.733170Z",
     "shell.execute_reply.started": "2022-03-07T05:27:29.892961Z"
    },
    "papermill": {
     "duration": 362.270384,
     "end_time": "2022-03-07T09:46:32.733847",
     "exception": false,
     "start_time": "2022-03-07T09:40:30.463463",
     "status": "completed"
    },
    "tags": []
   },
   "outputs": [
    {
     "data": {
      "application/vnd.jupyter.widget-view+json": {
       "model_id": "9e90ce5908c84fea97dbdf8674d37831",
       "version_major": 2,
       "version_minor": 0
      },
      "text/plain": [
       "  0%|          | 0/2050 [00:00<?, ?it/s]"
      ]
     },
     "metadata": {},
     "output_type": "display_data"
    },
    {
     "name": "stdout",
     "output_type": "stream",
     "text": [
      "\n",
      "Epochs: 1/5 | Train Loss:  0.141 | Train Accuracy:  0.351 | Val Loss:  0.113 | Val Accuracy:  0.506 | Epoch Time: 1m 12.44s\n",
      "\n",
      "Epochs: 2/5 | Train Loss:  0.081 | Train Accuracy:  0.635 | Val Loss:  0.061 | Val Accuracy:  0.722 | Epoch Time: 1m 12.72s\n",
      "\n",
      "Epochs: 3/5 | Train Loss:  0.031 | Train Accuracy:  0.870 | Val Loss:  0.024 | Val Accuracy:  0.906 | Epoch Time: 1m 12.40s\n",
      "\n",
      "Epochs: 4/5 | Train Loss:  0.011 | Train Accuracy:  0.970 | Val Loss:  0.014 | Val Accuracy:  0.946 | Epoch Time: 1m 12.22s\n",
      "\n",
      "Epochs: 5/5 | Train Loss:  0.005 | Train Accuracy:  0.991 | Val Loss:  0.012 | Val Accuracy:  0.954 | Epoch Time: 1m 12.17s\n",
      "\n",
      "Time Taken to train the model: 6m 2.20s\n"
     ]
    }
   ],
   "source": [
    "history2 = train(model2, train_loader2, val_loader2, 5e-5, 5)"
   ]
  },
  {
   "cell_type": "markdown",
   "id": "36fda56d",
   "metadata": {
    "papermill": {
     "duration": 0.067802,
     "end_time": "2022-03-07T09:46:32.869393",
     "exception": false,
     "start_time": "2022-03-07T09:46:32.801591",
     "status": "completed"
    },
    "tags": []
   },
   "source": [
    "### Training Together"
   ]
  },
  {
   "cell_type": "code",
   "execution_count": 34,
   "id": "0d0f8e03",
   "metadata": {
    "execution": {
     "iopub.execute_input": "2022-03-07T09:46:33.009489Z",
     "iopub.status.busy": "2022-03-07T09:46:33.008938Z",
     "iopub.status.idle": "2022-03-07T09:46:33.012093Z",
     "shell.execute_reply": "2022-03-07T09:46:33.011703Z",
     "shell.execute_reply.started": "2022-03-07T05:33:32.169922Z"
    },
    "papermill": {
     "duration": 0.075175,
     "end_time": "2022-03-07T09:46:33.012208",
     "exception": false,
     "start_time": "2022-03-07T09:46:32.937033",
     "status": "completed"
    },
    "tags": []
   },
   "outputs": [],
   "source": [
    "# df.head()"
   ]
  },
  {
   "cell_type": "code",
   "execution_count": 35,
   "id": "51091fe6",
   "metadata": {
    "execution": {
     "iopub.execute_input": "2022-03-07T09:46:33.152226Z",
     "iopub.status.busy": "2022-03-07T09:46:33.150517Z",
     "iopub.status.idle": "2022-03-07T09:46:33.152804Z",
     "shell.execute_reply": "2022-03-07T09:46:33.153192Z",
     "shell.execute_reply.started": "2022-03-07T05:33:32.179013Z"
    },
    "papermill": {
     "duration": 0.072662,
     "end_time": "2022-03-07T09:46:33.153333",
     "exception": false,
     "start_time": "2022-03-07T09:46:33.080671",
     "status": "completed"
    },
    "tags": []
   },
   "outputs": [],
   "source": [
    "# dataset3 = ReviewsDataset(df, tokenizer, 'one_hot', as_float=True)\n",
    "# train_ds3, val_ds3 = random_split(dataset3, [config.train_size, config.val_size])"
   ]
  },
  {
   "cell_type": "code",
   "execution_count": 36,
   "id": "43d5ea60",
   "metadata": {
    "execution": {
     "iopub.execute_input": "2022-03-07T09:46:33.291084Z",
     "iopub.status.busy": "2022-03-07T09:46:33.289549Z",
     "iopub.status.idle": "2022-03-07T09:46:33.291718Z",
     "shell.execute_reply": "2022-03-07T09:46:33.292107Z",
     "shell.execute_reply.started": "2022-03-07T05:33:32.188192Z"
    },
    "papermill": {
     "duration": 0.072075,
     "end_time": "2022-03-07T09:46:33.292237",
     "exception": false,
     "start_time": "2022-03-07T09:46:33.220162",
     "status": "completed"
    },
    "tags": []
   },
   "outputs": [],
   "source": [
    "# list(df['one_hot'].values)[0]"
   ]
  },
  {
   "cell_type": "code",
   "execution_count": 37,
   "id": "626e7b32",
   "metadata": {
    "execution": {
     "iopub.execute_input": "2022-03-07T09:46:33.429973Z",
     "iopub.status.busy": "2022-03-07T09:46:33.428452Z",
     "iopub.status.idle": "2022-03-07T09:46:33.430617Z",
     "shell.execute_reply": "2022-03-07T09:46:33.431031Z",
     "shell.execute_reply.started": "2022-03-07T05:33:32.199097Z"
    },
    "papermill": {
     "duration": 0.072009,
     "end_time": "2022-03-07T09:46:33.431144",
     "exception": false,
     "start_time": "2022-03-07T09:46:33.359135",
     "status": "completed"
    },
    "tags": []
   },
   "outputs": [],
   "source": [
    "# i, l = train_ds3[0]\n",
    "# print(l)"
   ]
  },
  {
   "cell_type": "code",
   "execution_count": 38,
   "id": "ef0466f1",
   "metadata": {
    "execution": {
     "iopub.execute_input": "2022-03-07T09:46:33.568140Z",
     "iopub.status.busy": "2022-03-07T09:46:33.567343Z",
     "iopub.status.idle": "2022-03-07T09:46:33.569957Z",
     "shell.execute_reply": "2022-03-07T09:46:33.569495Z",
     "shell.execute_reply.started": "2022-03-07T05:33:32.217171Z"
    },
    "papermill": {
     "duration": 0.072191,
     "end_time": "2022-03-07T09:46:33.570076",
     "exception": false,
     "start_time": "2022-03-07T09:46:33.497885",
     "status": "completed"
    },
    "tags": []
   },
   "outputs": [],
   "source": [
    "# train_loader3 = DataLoader(train_ds3, config.batch_size, shuffle=True,\n",
    "#                           num_workers=config.num_workers, \n",
    "#                           pin_memory=config.pin_memory)\n",
    "\n",
    "\n",
    "# val_loader3 = DataLoader(val_ds3, config.batch_size, shuffle=False, \n",
    "#                         num_workers=config.num_workers, \n",
    "#                         pin_memory=config.pin_memory)"
   ]
  },
  {
   "cell_type": "code",
   "execution_count": 39,
   "id": "e11c0d9f",
   "metadata": {
    "execution": {
     "iopub.execute_input": "2022-03-07T09:46:33.708032Z",
     "iopub.status.busy": "2022-03-07T09:46:33.707285Z",
     "iopub.status.idle": "2022-03-07T09:46:33.709650Z",
     "shell.execute_reply": "2022-03-07T09:46:33.709251Z",
     "shell.execute_reply.started": "2022-03-07T05:33:32.227363Z"
    },
    "papermill": {
     "duration": 0.072412,
     "end_time": "2022-03-07T09:46:33.709761",
     "exception": false,
     "start_time": "2022-03-07T09:46:33.637349",
     "status": "completed"
    },
    "tags": []
   },
   "outputs": [],
   "source": [
    "# bert3 = BertModel.from_pretrained(\"bert-base-uncased\")\n",
    "# model3 = BertForABSA(bert3)"
   ]
  },
  {
   "cell_type": "code",
   "execution_count": 40,
   "id": "3467276c",
   "metadata": {
    "execution": {
     "iopub.execute_input": "2022-03-07T09:46:33.846557Z",
     "iopub.status.busy": "2022-03-07T09:46:33.845650Z",
     "iopub.status.idle": "2022-03-07T09:46:33.848349Z",
     "shell.execute_reply": "2022-03-07T09:46:33.847901Z",
     "shell.execute_reply.started": "2022-03-07T05:33:32.237887Z"
    },
    "papermill": {
     "duration": 0.072282,
     "end_time": "2022-03-07T09:46:33.848453",
     "exception": false,
     "start_time": "2022-03-07T09:46:33.776171",
     "status": "completed"
    },
    "tags": []
   },
   "outputs": [],
   "source": [
    "# for i, l in train_loader3:\n",
    "#     print(l)\n",
    "#     break"
   ]
  },
  {
   "cell_type": "code",
   "execution_count": null,
   "id": "a1497417",
   "metadata": {
    "papermill": {
     "duration": 0.066379,
     "end_time": "2022-03-07T09:46:33.981814",
     "exception": false,
     "start_time": "2022-03-07T09:46:33.915435",
     "status": "completed"
    },
    "tags": []
   },
   "outputs": [],
   "source": []
  },
  {
   "cell_type": "code",
   "execution_count": 41,
   "id": "dc5d1b82",
   "metadata": {
    "execution": {
     "iopub.execute_input": "2022-03-07T09:46:34.121133Z",
     "iopub.status.busy": "2022-03-07T09:46:34.120380Z",
     "iopub.status.idle": "2022-03-07T09:46:34.122355Z",
     "shell.execute_reply": "2022-03-07T09:46:34.122769Z",
     "shell.execute_reply.started": "2022-03-07T05:33:32.246847Z"
    },
    "papermill": {
     "duration": 0.073414,
     "end_time": "2022-03-07T09:46:34.122884",
     "exception": false,
     "start_time": "2022-03-07T09:46:34.049470",
     "status": "completed"
    },
    "tags": []
   },
   "outputs": [],
   "source": [
    "# history3 = train_together(model3, train_loader3, val_loader3, 5e-5, 5)"
   ]
  },
  {
   "cell_type": "markdown",
   "id": "7d3173ee",
   "metadata": {
    "papermill": {
     "duration": 0.06604,
     "end_time": "2022-03-07T09:46:34.255835",
     "exception": false,
     "start_time": "2022-03-07T09:46:34.189795",
     "status": "completed"
    },
    "tags": []
   },
   "source": [
    "## Prediction"
   ]
  },
  {
   "cell_type": "code",
   "execution_count": 42,
   "id": "922bc09f",
   "metadata": {
    "execution": {
     "iopub.execute_input": "2022-03-07T09:46:34.396861Z",
     "iopub.status.busy": "2022-03-07T09:46:34.395913Z",
     "iopub.status.idle": "2022-03-07T09:46:34.405297Z",
     "shell.execute_reply": "2022-03-07T09:46:34.404871Z",
     "shell.execute_reply.started": "2022-03-07T06:51:02.178624Z"
    },
    "papermill": {
     "duration": 0.082975,
     "end_time": "2022-03-07T09:46:34.405405",
     "exception": false,
     "start_time": "2022-03-07T09:46:34.322430",
     "status": "completed"
    },
    "tags": []
   },
   "outputs": [],
   "source": [
    "def predict(sentence):\n",
    "    inputs = tokenizer(sentence, add_special_tokens=True, \\\n",
    "                                truncation=True, padding=True, \\\n",
    "                                return_tensors='pt')\n",
    "    \n",
    "    use_cuda = torch.cuda.is_available()\n",
    "    device = torch.device(\"cuda\" if use_cuda else \"cpu\")\n",
    "    inputs = {k: v.to(device) for k, v in inputs.items()}\n",
    "    \n",
    "    output1 = model(**inputs)\n",
    "    preds1 = torch.argmax(output1, dim=1)\n",
    "    \n",
    "    output2 = model2(**inputs)\n",
    "    preds2 = torch.argmax(output2, dim=1)\n",
    "    \n",
    "    a1 = preds1.item()//3\n",
    "    s1 = preds1.item()%3\n",
    "    \n",
    "    a2 = preds2.item()//3\n",
    "    s2 = preds2.item()%3\n",
    "    \n",
    "    aspect_conversion_dict = {0: 'ambience', 1: 'food', 2: 'menu', 3: 'miscellaneous', 4: 'place', 5: 'price', 6: 'service', 7: 'staff'}\n",
    "    sentiment_conversion_dict = {2: 'positive', 1: 'neutral', 0: 'negative'}\n",
    "    \n",
    "    aspect1 = aspect_conversion_dict[a1]\n",
    "    sentiment1 = sentiment_conversion_dict[s1]\n",
    "    \n",
    "    aspect2 = aspect_conversion_dict[a2]\n",
    "    sentiment2 = sentiment_conversion_dict[s2]\n",
    "    \n",
    "    prediction = {aspect1: sentiment1, aspect2: sentiment2}\n",
    "    \n",
    "    return prediction #, a1, a2, s1, s2"
   ]
  },
  {
   "cell_type": "code",
   "execution_count": 43,
   "id": "cfd2a803",
   "metadata": {
    "execution": {
     "iopub.execute_input": "2022-03-07T09:46:34.542572Z",
     "iopub.status.busy": "2022-03-07T09:46:34.541176Z",
     "iopub.status.idle": "2022-03-07T09:46:34.544512Z",
     "shell.execute_reply": "2022-03-07T09:46:34.544971Z",
     "shell.execute_reply.started": "2022-03-07T05:33:32.267743Z"
    },
    "papermill": {
     "duration": 0.072514,
     "end_time": "2022-03-07T09:46:34.545093",
     "exception": false,
     "start_time": "2022-03-07T09:46:34.472579",
     "status": "completed"
    },
    "tags": []
   },
   "outputs": [],
   "source": [
    "# def predict_together(sentence):\n",
    "#     inputs = tokenizer(sentence, add_special_tokens=True, \\\n",
    "#                                 truncation=True, padding=True, \\\n",
    "#                                 return_tensors='pt')\n",
    "    \n",
    "#     use_cuda = torch.cuda.is_available()\n",
    "#     device = torch.device(\"cuda\" if use_cuda else \"cpu\")\n",
    "#     inputs = {k: v.to(device) for k, v in inputs.items()}\n",
    "    \n",
    "#     outputs = model(**inputs)\n",
    "#     oh = get_one_hot(outputs)\n"
   ]
  },
  {
   "cell_type": "code",
   "execution_count": 44,
   "id": "c6b19ab1",
   "metadata": {
    "execution": {
     "iopub.execute_input": "2022-03-07T09:46:34.685230Z",
     "iopub.status.busy": "2022-03-07T09:46:34.684455Z",
     "iopub.status.idle": "2022-03-07T09:46:34.717058Z",
     "shell.execute_reply": "2022-03-07T09:46:34.716558Z",
     "shell.execute_reply.started": "2022-03-07T05:40:10.692338Z"
    },
    "papermill": {
     "duration": 0.104477,
     "end_time": "2022-03-07T09:46:34.717171",
     "exception": false,
     "start_time": "2022-03-07T09:46:34.612694",
     "status": "completed"
    },
    "tags": []
   },
   "outputs": [
    {
     "name": "stdout",
     "output_type": "stream",
     "text": [
      "{'menu': 'negative', 'miscellaneous': 'positive'}\n"
     ]
    }
   ],
   "source": [
    "sentence = \"Only quibbles are so-so wine service, and while Prix-fixe is reasonable at $68, extra charges for additional dishes/tastings can be high.\"\n",
    "# inputs = tokenizer(sentence)\n",
    "# print(inputs)\n",
    "prediction = predict(sentence)\n",
    "print(prediction)"
   ]
  },
  {
   "cell_type": "code",
   "execution_count": 45,
   "id": "3c488724",
   "metadata": {
    "execution": {
     "iopub.execute_input": "2022-03-07T09:46:34.855833Z",
     "iopub.status.busy": "2022-03-07T09:46:34.855157Z",
     "iopub.status.idle": "2022-03-07T09:46:34.920484Z",
     "shell.execute_reply": "2022-03-07T09:46:34.920963Z",
     "shell.execute_reply.started": "2022-03-07T07:02:11.621702Z"
    },
    "papermill": {
     "duration": 0.136917,
     "end_time": "2022-03-07T09:46:34.921090",
     "exception": false,
     "start_time": "2022-03-07T09:46:34.784173",
     "status": "completed"
    },
    "tags": []
   },
   "outputs": [
    {
     "data": {
      "text/html": [
       "<div>\n",
       "<style scoped>\n",
       "    .dataframe tbody tr th:only-of-type {\n",
       "        vertical-align: middle;\n",
       "    }\n",
       "\n",
       "    .dataframe tbody tr th {\n",
       "        vertical-align: top;\n",
       "    }\n",
       "\n",
       "    .dataframe thead th {\n",
       "        text-align: right;\n",
       "    }\n",
       "</style>\n",
       "<table border=\"1\" class=\"dataframe\">\n",
       "  <thead>\n",
       "    <tr style=\"text-align: right;\">\n",
       "      <th></th>\n",
       "      <th>text</th>\n",
       "    </tr>\n",
       "  </thead>\n",
       "  <tbody>\n",
       "    <tr>\n",
       "      <th>0</th>\n",
       "      <td>Overall, it is a nice place and if you don't m...</td>\n",
       "    </tr>\n",
       "    <tr>\n",
       "      <th>1</th>\n",
       "      <td>We waited 15 minutes for a menu, another 20 fo...</td>\n",
       "    </tr>\n",
       "    <tr>\n",
       "      <th>2</th>\n",
       "      <td>the dishes are a little too recherche and too ...</td>\n",
       "    </tr>\n",
       "    <tr>\n",
       "      <th>3</th>\n",
       "      <td>The pricing isn't quite clear and look out for...</td>\n",
       "    </tr>\n",
       "    <tr>\n",
       "      <th>4</th>\n",
       "      <td>the menu looked great, but the food was the bi...</td>\n",
       "    </tr>\n",
       "  </tbody>\n",
       "</table>\n",
       "</div>"
      ],
      "text/plain": [
       "                                                text\n",
       "0  Overall, it is a nice place and if you don't m...\n",
       "1  We waited 15 minutes for a menu, another 20 fo...\n",
       "2  the dishes are a little too recherche and too ...\n",
       "3  The pricing isn't quite clear and look out for...\n",
       "4  the menu looked great, but the food was the bi..."
      ]
     },
     "execution_count": 45,
     "metadata": {},
     "output_type": "execute_result"
    }
   ],
   "source": [
    "test_df = pd.read_xml(config.test_path)\n",
    "test_df.head()"
   ]
  },
  {
   "cell_type": "code",
   "execution_count": 46,
   "id": "9a68a9be",
   "metadata": {
    "execution": {
     "iopub.execute_input": "2022-03-07T09:46:35.064476Z",
     "iopub.status.busy": "2022-03-07T09:46:35.063865Z",
     "iopub.status.idle": "2022-03-07T09:46:35.359301Z",
     "shell.execute_reply": "2022-03-07T09:46:35.358814Z",
     "shell.execute_reply.started": "2022-03-07T07:02:15.14784Z"
    },
    "papermill": {
     "duration": 0.369622,
     "end_time": "2022-03-07T09:46:35.359414",
     "exception": false,
     "start_time": "2022-03-07T09:46:34.989792",
     "status": "completed"
    },
    "tags": []
   },
   "outputs": [],
   "source": [
    "sents_aspects = test_df['text'].apply(predict)"
   ]
  },
  {
   "cell_type": "code",
   "execution_count": 47,
   "id": "687d370b",
   "metadata": {
    "execution": {
     "iopub.execute_input": "2022-03-07T09:46:35.502604Z",
     "iopub.status.busy": "2022-03-07T09:46:35.501895Z",
     "iopub.status.idle": "2022-03-07T09:46:35.504333Z",
     "shell.execute_reply": "2022-03-07T09:46:35.503900Z",
     "shell.execute_reply.started": "2022-03-07T07:02:17.609012Z"
    },
    "papermill": {
     "duration": 0.076113,
     "end_time": "2022-03-07T09:46:35.504437",
     "exception": false,
     "start_time": "2022-03-07T09:46:35.428324",
     "status": "completed"
    },
    "tags": []
   },
   "outputs": [],
   "source": [
    "# APPEND ASPECTS AND POLARITIES IN THE TEST DATAFRAME\n",
    "aspect1 = []\n",
    "aspect2 = []\n",
    "sentiment1 = []\n",
    "sentiment2 = []\n",
    "for result in sents_aspects:\n",
    "    aspects = list(result.keys())\n",
    "    sentiments = list(result.values())\n",
    "    \n",
    "    aspect1.append(aspects[0])\n",
    "    if len(aspects) == 2:\n",
    "        aspect2.append(aspects[1])\n",
    "    else:\n",
    "        aspect2.append(None)\n",
    "        \n",
    "    sentiment1.append(sentiments[0])\n",
    "    if len(sentiments) == 2:\n",
    "        sentiment2.append(sentiments[1])\n",
    "    else:\n",
    "        sentiment2.append(None)"
   ]
  },
  {
   "cell_type": "code",
   "execution_count": 48,
   "id": "3ef7016d",
   "metadata": {
    "execution": {
     "iopub.execute_input": "2022-03-07T09:46:35.648922Z",
     "iopub.status.busy": "2022-03-07T09:46:35.648172Z",
     "iopub.status.idle": "2022-03-07T09:46:35.650177Z",
     "shell.execute_reply": "2022-03-07T09:46:35.650596Z",
     "shell.execute_reply.started": "2022-03-07T07:02:20.529017Z"
    },
    "papermill": {
     "duration": 0.077632,
     "end_time": "2022-03-07T09:46:35.650739",
     "exception": false,
     "start_time": "2022-03-07T09:46:35.573107",
     "status": "completed"
    },
    "tags": []
   },
   "outputs": [],
   "source": [
    "test_df['aspect1'] = aspect1\n",
    "test_df['sentiment1'] = sentiment1\n",
    "test_df['aspect2'] = aspect2\n",
    "test_df['sentiment2'] = sentiment2"
   ]
  },
  {
   "cell_type": "code",
   "execution_count": 49,
   "id": "155bfb42",
   "metadata": {
    "execution": {
     "iopub.execute_input": "2022-03-07T09:46:35.797133Z",
     "iopub.status.busy": "2022-03-07T09:46:35.796306Z",
     "iopub.status.idle": "2022-03-07T09:46:35.799375Z",
     "shell.execute_reply": "2022-03-07T09:46:35.799779Z",
     "shell.execute_reply.started": "2022-03-07T07:02:22.325514Z"
    },
    "papermill": {
     "duration": 0.080768,
     "end_time": "2022-03-07T09:46:35.799895",
     "exception": false,
     "start_time": "2022-03-07T09:46:35.719127",
     "status": "completed"
    },
    "tags": []
   },
   "outputs": [
    {
     "data": {
      "text/html": [
       "<div>\n",
       "<style scoped>\n",
       "    .dataframe tbody tr th:only-of-type {\n",
       "        vertical-align: middle;\n",
       "    }\n",
       "\n",
       "    .dataframe tbody tr th {\n",
       "        vertical-align: top;\n",
       "    }\n",
       "\n",
       "    .dataframe thead th {\n",
       "        text-align: right;\n",
       "    }\n",
       "</style>\n",
       "<table border=\"1\" class=\"dataframe\">\n",
       "  <thead>\n",
       "    <tr style=\"text-align: right;\">\n",
       "      <th></th>\n",
       "      <th>text</th>\n",
       "      <th>aspect1</th>\n",
       "      <th>sentiment1</th>\n",
       "      <th>aspect2</th>\n",
       "      <th>sentiment2</th>\n",
       "    </tr>\n",
       "  </thead>\n",
       "  <tbody>\n",
       "    <tr>\n",
       "      <th>0</th>\n",
       "      <td>Overall, it is a nice place and if you don't m...</td>\n",
       "      <td>place</td>\n",
       "      <td>positive</td>\n",
       "      <td>food</td>\n",
       "      <td>positive</td>\n",
       "    </tr>\n",
       "    <tr>\n",
       "      <th>1</th>\n",
       "      <td>We waited 15 minutes for a menu, another 20 fo...</td>\n",
       "      <td>food</td>\n",
       "      <td>positive</td>\n",
       "      <td>menu</td>\n",
       "      <td>neutral</td>\n",
       "    </tr>\n",
       "    <tr>\n",
       "      <th>2</th>\n",
       "      <td>the dishes are a little too recherche and too ...</td>\n",
       "      <td>food</td>\n",
       "      <td>positive</td>\n",
       "      <td>None</td>\n",
       "      <td>None</td>\n",
       "    </tr>\n",
       "    <tr>\n",
       "      <th>3</th>\n",
       "      <td>The pricing isn't quite clear and look out for...</td>\n",
       "      <td>food</td>\n",
       "      <td>positive</td>\n",
       "      <td>None</td>\n",
       "      <td>None</td>\n",
       "    </tr>\n",
       "    <tr>\n",
       "      <th>4</th>\n",
       "      <td>the menu looked great, but the food was the bi...</td>\n",
       "      <td>menu</td>\n",
       "      <td>positive</td>\n",
       "      <td>food</td>\n",
       "      <td>positive</td>\n",
       "    </tr>\n",
       "    <tr>\n",
       "      <th>5</th>\n",
       "      <td>My boyfriend and I went one Friday night to fi...</td>\n",
       "      <td>food</td>\n",
       "      <td>neutral</td>\n",
       "      <td>None</td>\n",
       "      <td>None</td>\n",
       "    </tr>\n",
       "    <tr>\n",
       "      <th>6</th>\n",
       "      <td>The Pink Pony's brunch is among the very best ...</td>\n",
       "      <td>food</td>\n",
       "      <td>positive</td>\n",
       "      <td>miscellaneous</td>\n",
       "      <td>positive</td>\n",
       "    </tr>\n",
       "    <tr>\n",
       "      <th>7</th>\n",
       "      <td>The environment is a touch loud (although the ...</td>\n",
       "      <td>ambience</td>\n",
       "      <td>negative</td>\n",
       "      <td>place</td>\n",
       "      <td>positive</td>\n",
       "    </tr>\n",
       "    <tr>\n",
       "      <th>8</th>\n",
       "      <td>Only quibbles are so-so wine service, and whil...</td>\n",
       "      <td>menu</td>\n",
       "      <td>negative</td>\n",
       "      <td>miscellaneous</td>\n",
       "      <td>positive</td>\n",
       "    </tr>\n",
       "    <tr>\n",
       "      <th>9</th>\n",
       "      <td>Our waiter was a real pro; knew a lot about in...</td>\n",
       "      <td>staff</td>\n",
       "      <td>positive</td>\n",
       "      <td>ambience</td>\n",
       "      <td>neutral</td>\n",
       "    </tr>\n",
       "    <tr>\n",
       "      <th>10</th>\n",
       "      <td>Fresh fish, tender milk fed veal and outrageou...</td>\n",
       "      <td>food</td>\n",
       "      <td>positive</td>\n",
       "      <td>None</td>\n",
       "      <td>None</td>\n",
       "    </tr>\n",
       "    <tr>\n",
       "      <th>11</th>\n",
       "      <td>Any sandwich or appetizer on the menu is delic...</td>\n",
       "      <td>food</td>\n",
       "      <td>positive</td>\n",
       "      <td>None</td>\n",
       "      <td>None</td>\n",
       "    </tr>\n",
       "    <tr>\n",
       "      <th>12</th>\n",
       "      <td>Expect to stand around for a while before one ...</td>\n",
       "      <td>menu</td>\n",
       "      <td>neutral</td>\n",
       "      <td>None</td>\n",
       "      <td>None</td>\n",
       "    </tr>\n",
       "    <tr>\n",
       "      <th>13</th>\n",
       "      <td>Good value for money--especially the $7 lunch ...</td>\n",
       "      <td>miscellaneous</td>\n",
       "      <td>positive</td>\n",
       "      <td>food</td>\n",
       "      <td>negative</td>\n",
       "    </tr>\n",
       "    <tr>\n",
       "      <th>14</th>\n",
       "      <td>The staff were rude and rushed us through our ...</td>\n",
       "      <td>menu</td>\n",
       "      <td>neutral</td>\n",
       "      <td>food</td>\n",
       "      <td>negative</td>\n",
       "    </tr>\n",
       "  </tbody>\n",
       "</table>\n",
       "</div>"
      ],
      "text/plain": [
       "                                                 text        aspect1  \\\n",
       "0   Overall, it is a nice place and if you don't m...          place   \n",
       "1   We waited 15 minutes for a menu, another 20 fo...           food   \n",
       "2   the dishes are a little too recherche and too ...           food   \n",
       "3   The pricing isn't quite clear and look out for...           food   \n",
       "4   the menu looked great, but the food was the bi...           menu   \n",
       "5   My boyfriend and I went one Friday night to fi...           food   \n",
       "6   The Pink Pony's brunch is among the very best ...           food   \n",
       "7   The environment is a touch loud (although the ...       ambience   \n",
       "8   Only quibbles are so-so wine service, and whil...           menu   \n",
       "9   Our waiter was a real pro; knew a lot about in...          staff   \n",
       "10  Fresh fish, tender milk fed veal and outrageou...           food   \n",
       "11  Any sandwich or appetizer on the menu is delic...           food   \n",
       "12  Expect to stand around for a while before one ...           menu   \n",
       "13  Good value for money--especially the $7 lunch ...  miscellaneous   \n",
       "14  The staff were rude and rushed us through our ...           menu   \n",
       "\n",
       "   sentiment1        aspect2 sentiment2  \n",
       "0    positive           food   positive  \n",
       "1    positive           menu    neutral  \n",
       "2    positive           None       None  \n",
       "3    positive           None       None  \n",
       "4    positive           food   positive  \n",
       "5     neutral           None       None  \n",
       "6    positive  miscellaneous   positive  \n",
       "7    negative          place   positive  \n",
       "8    negative  miscellaneous   positive  \n",
       "9    positive       ambience    neutral  \n",
       "10   positive           None       None  \n",
       "11   positive           None       None  \n",
       "12    neutral           None       None  \n",
       "13   positive           food   negative  \n",
       "14    neutral           food   negative  "
      ]
     },
     "execution_count": 49,
     "metadata": {},
     "output_type": "execute_result"
    }
   ],
   "source": [
    "test_df"
   ]
  },
  {
   "cell_type": "markdown",
   "id": "a1fd9a50",
   "metadata": {
    "papermill": {
     "duration": 0.067623,
     "end_time": "2022-03-07T09:46:35.935672",
     "exception": false,
     "start_time": "2022-03-07T09:46:35.868049",
     "status": "completed"
    },
    "tags": []
   },
   "source": [
    "### Saving Result to XML file"
   ]
  },
  {
   "cell_type": "code",
   "execution_count": 50,
   "id": "7d5ea5f7",
   "metadata": {
    "execution": {
     "iopub.execute_input": "2022-03-07T09:46:36.092303Z",
     "iopub.status.busy": "2022-03-07T09:46:36.091386Z",
     "iopub.status.idle": "2022-03-07T09:46:36.098010Z",
     "shell.execute_reply": "2022-03-07T09:46:36.097575Z",
     "shell.execute_reply.started": "2022-03-07T08:23:52.374527Z"
    },
    "papermill": {
     "duration": 0.094497,
     "end_time": "2022-03-07T09:46:36.098113",
     "exception": false,
     "start_time": "2022-03-07T09:46:36.003616",
     "status": "completed"
    },
    "tags": []
   },
   "outputs": [],
   "source": [
    "root = minidom.Document()\n",
    "sentences = root.createElement('sentences')\n",
    "\n",
    "for text, aspect1, sentiment1, aspect2, sentiment2 in zip(test_df['text'], test_df['aspect1'], test_df['sentiment1'], test_df['aspect2'], test_df['sentiment2']):\n",
    "    sentence = root.createElement('sentence')\n",
    "    text_child = root.createElement('text')\n",
    "    text_child.appendChild(root.createTextNode(text))\n",
    "    \n",
    "    aspect_cats_child = root.createElement('aspectCategories')\n",
    "    \n",
    "    aspect_cat_child1 = root.createElement('aspectCategory')\n",
    "    aspect_cat_child1.setAttribute('category', aspect1)\n",
    "    aspect_cat_child1.setAttribute('polarity', sentiment1)    \n",
    "\n",
    "    aspect_cat_child2 = root.createElement('aspectCategory')\n",
    "    aspect_cat_child2.setAttribute('category', aspect2)\n",
    "    aspect_cat_child2.setAttribute('polarity', sentiment2)\n",
    "    \n",
    "    aspect_cats_child.appendChild(aspect_cat_child1)\n",
    "    aspect_cats_child.appendChild(aspect_cat_child2)\n",
    "    sentence.appendChild(text_child)\n",
    "    sentence.appendChild(aspect_cats_child)\n",
    "    \n",
    "    sentences.appendChild(sentence)\n",
    "\n",
    "\n",
    "root.appendChild(sentences)\n",
    "test_xml = root.toprettyxml(indent =\"\\t\") \n",
    "\n",
    "with open(config.output_path, \"w\") as f:\n",
    "    f.write(test_xml) "
   ]
  },
  {
   "cell_type": "markdown",
   "id": "40d840c2",
   "metadata": {
    "papermill": {
     "duration": 0.067737,
     "end_time": "2022-03-07T09:46:36.234798",
     "exception": false,
     "start_time": "2022-03-07T09:46:36.167061",
     "status": "completed"
    },
    "tags": []
   },
   "source": [
    "## Plotting Results"
   ]
  },
  {
   "cell_type": "code",
   "execution_count": 51,
   "id": "e6cb296e",
   "metadata": {
    "execution": {
     "iopub.execute_input": "2022-03-07T09:46:36.380874Z",
     "iopub.status.busy": "2022-03-07T09:46:36.380347Z",
     "iopub.status.idle": "2022-03-07T09:46:36.610117Z",
     "shell.execute_reply": "2022-03-07T09:46:36.609713Z",
     "shell.execute_reply.started": "2022-03-07T06:20:52.440518Z"
    },
    "papermill": {
     "duration": 0.307498,
     "end_time": "2022-03-07T09:46:36.610266",
     "exception": false,
     "start_time": "2022-03-07T09:46:36.302768",
     "status": "completed"
    },
    "tags": []
   },
   "outputs": [
    {
     "data": {
      "text/plain": [
       "<matplotlib.legend.Legend at 0x7f8fc3021c10>"
      ]
     },
     "execution_count": 51,
     "metadata": {},
     "output_type": "execute_result"
    },
    {
     "data": {
      "image/png": "[encoded data removed]",
      "text/plain": [
       "<Figure size 432x288 with 1 Axes>"
      ]
     },
     "metadata": {
      "needs_background": "light"
     },
     "output_type": "display_data"
    }
   ],
   "source": [
    "train_losses = [x['train_loss'] for x in history]\n",
    "val_losses = [x['val_loss'] for x in history]\n",
    "epochs = [x['epoch'] for x in history]\n",
    "\n",
    "plt.locator_params(axis='x', nbins=5)\n",
    "plt.plot(epochs, train_losses, label='Train-Losses')\n",
    "plt.plot(epochs, val_losses, label='Validation-Losses')\n",
    "plt.xlabel('Epcohs')\n",
    "plt.ylabel('Losses')\n",
    "plt.title('Losses vs Epochs')\n",
    "plt.legend()\n",
    "\n",
    "# print(train_loss)"
   ]
  },
  {
   "cell_type": "code",
   "execution_count": 52,
   "id": "901a96f4",
   "metadata": {
    "execution": {
     "iopub.execute_input": "2022-03-07T09:46:36.760894Z",
     "iopub.status.busy": "2022-03-07T09:46:36.760137Z",
     "iopub.status.idle": "2022-03-07T09:46:36.762331Z",
     "shell.execute_reply": "2022-03-07T09:46:36.762704Z",
     "shell.execute_reply.started": "2022-03-07T06:30:48.173567Z"
    },
    "papermill": {
     "duration": 0.081071,
     "end_time": "2022-03-07T09:46:36.762827",
     "exception": false,
     "start_time": "2022-03-07T09:46:36.681756",
     "status": "completed"
    },
    "tags": []
   },
   "outputs": [],
   "source": [
    "def plot(history, name=\"HistoryPlot\", figsize=(20, 9)):\n",
    "    fig = plt.figure(figsize=figsize)\n",
    "    epochs = [x['epoch'] for x in history]\n",
    "    \n",
    "    # Plotting Losses\n",
    "    ax1 = fig.add_subplot(121)\n",
    "    ax1.locator_params(axis='x', nbins=5)    \n",
    "    train_losses = [x['train_loss'] for x in history]\n",
    "    val_losses = [x['val_loss'] for x in history]\n",
    "    ax1.plot(epochs, train_losses, label='Train-Losses')\n",
    "    ax1.plot(epochs, val_losses, label='Validation-Losses')\n",
    "    plt.xlabel('Epochs')\n",
    "    plt.ylabel('Losses')\n",
    "    plt.title('Losses vs Epochs')\n",
    "    plt.legend()\n",
    "    \n",
    "    # Plotting Accuracies\n",
    "    ax2 = fig.add_subplot(122)\n",
    "    ax2.locator_params(axis='x', nbins=5)    \n",
    "    train_accs = [x['train_acc'].cpu() for x in history]\n",
    "    val_accs = [x['val_acc'].cpu() for x in history]\n",
    "    ax2.plot(epochs, train_accs, label='Train-Accuracies')\n",
    "    ax2.plot(epochs, val_accs, label='Validation-Accuracies')\n",
    "    plt.xlabel('Epochs')\n",
    "    plt.ylabel('Accuracies')\n",
    "    plt.title('Accuracies vs Epochs')\n",
    "    plt.legend()\n",
    "    \n",
    "    fig.savefig('./'+name+\".jpg\")\n",
    "    plt.show()"
   ]
  },
  {
   "cell_type": "code",
   "execution_count": 53,
   "id": "0e95a9d7",
   "metadata": {
    "execution": {
     "iopub.execute_input": "2022-03-07T09:46:36.920070Z",
     "iopub.status.busy": "2022-03-07T09:46:36.918881Z",
     "iopub.status.idle": "2022-03-07T09:46:37.310441Z",
     "shell.execute_reply": "2022-03-07T09:46:37.310874Z",
     "shell.execute_reply.started": "2022-03-07T06:31:29.966487Z"
    },
    "papermill": {
     "duration": 0.478524,
     "end_time": "2022-03-07T09:46:37.311016",
     "exception": false,
     "start_time": "2022-03-07T09:46:36.832492",
     "status": "completed"
    },
    "tags": []
   },
   "outputs": [
    {
     "data": {
      "image/png": "[encoded data removed]",
      "text/plain": [
       "<Figure size 1440x648 with 2 Axes>"
      ]
     },
     "metadata": {
      "needs_background": "light"
     },
     "output_type": "display_data"
    }
   ],
   "source": [
    "plot(history, name=\"HistoryPlot1\")"
   ]
  },
  {
   "cell_type": "code",
   "execution_count": 54,
   "id": "db5c77e2",
   "metadata": {
    "execution": {
     "iopub.execute_input": "2022-03-07T09:46:37.472127Z",
     "iopub.status.busy": "2022-03-07T09:46:37.470040Z",
     "iopub.status.idle": "2022-03-07T09:46:37.871833Z",
     "shell.execute_reply": "2022-03-07T09:46:37.872273Z",
     "shell.execute_reply.started": "2022-03-07T06:31:33.036127Z"
    },
    "papermill": {
     "duration": 0.489681,
     "end_time": "2022-03-07T09:46:37.872429",
     "exception": false,
     "start_time": "2022-03-07T09:46:37.382748",
     "status": "completed"
    },
    "tags": []
   },
   "outputs": [
    {
     "data": {
      "image/png": "[encoded data removed]",
      "text/plain": [
       "<Figure size 1440x648 with 2 Axes>"
      ]
     },
     "metadata": {
      "needs_background": "light"
     },
     "output_type": "display_data"
    }
   ],
   "source": [
    "plot(history2, name=\"HistoryPlot2\")"
   ]
  },
  {
   "cell_type": "markdown",
   "id": "263bf313",
   "metadata": {
    "papermill": {
     "duration": 0.078751,
     "end_time": "2022-03-07T09:46:38.025193",
     "exception": false,
     "start_time": "2022-03-07T09:46:37.946442",
     "status": "completed"
    },
    "tags": []
   },
   "source": [
    "## Save Model"
   ]
  },
  {
   "cell_type": "code",
   "execution_count": 55,
   "id": "8fd09cf6",
   "metadata": {
    "execution": {
     "iopub.execute_input": "2022-03-07T09:46:38.179381Z",
     "iopub.status.busy": "2022-03-07T09:46:38.178595Z",
     "iopub.status.idle": "2022-03-07T09:46:39.562250Z",
     "shell.execute_reply": "2022-03-07T09:46:39.561288Z",
     "shell.execute_reply.started": "2022-03-07T09:14:57.226231Z"
    },
    "papermill": {
     "duration": 1.461637,
     "end_time": "2022-03-07T09:46:39.562401",
     "exception": false,
     "start_time": "2022-03-07T09:46:38.100764",
     "status": "completed"
    },
    "tags": []
   },
   "outputs": [],
   "source": [
    "import os\n",
    "os.mkdir('./models')\n",
    "torch.save(model.state_dict(), './models/model1.pt')\n",
    "torch.save(model2.state_dict(), './models/model2.pt')"
   ]
  }
 ],
 "metadata": {
  "kernelspec": {
   "display_name": "Python 3",
   "language": "python",
   "name": "python3"
  },
  "language_info": {
   "codemirror_mode": {
    "name": "ipython",
    "version": 3
   },
   "file_extension": ".py",
   "mimetype": "text/x-python",
   "name": "python",
   "nbconvert_exporter": "python",
   "pygments_lexer": "ipython3",
   "version": "3.7.12"
  },
  "papermill": {
   "default_parameters": {},
   "duration": 804.675618,
   "end_time": "2022-03-07T09:46:43.102140",
   "environment_variables": {},
   "exception": null,
   "input_path": "__notebook__.ipynb",
   "output_path": "__notebook__.ipynb",
   "parameters": {},
   "start_time": "2022-03-07T09:33:18.426522",
   "version": "2.3.3"
  },
  "widgets": {
   "application/vnd.jupyter.widget-state+json": {
    "state": {
     "0348cac85c1d4e9885ca00ef4a53415a": {
      "model_module": "@jupyter-widgets/base",
      "model_module_version": "1.2.0",
      "model_name": "LayoutModel",
      "state": {
       "_model_module": "@jupyter-widgets/base",
       "_model_module_version": "1.2.0",
       "_model_name": "LayoutModel",
       "_view_count": null,
       "_view_module": "@jupyter-widgets/base",
       "_view_module_version": "1.2.0",
       "_view_name": "LayoutView",
       "align_content": null,
       "align_items": null,
       "align_self": null,
       "border": null,
       "bottom": null,
       "display": null,
       "flex": null,
       "flex_flow": null,
       "grid_area": null,
       "grid_auto_columns": null,
       "grid_auto_flow": null,
       "grid_auto_rows": null,
       "grid_column": null,
       "grid_gap": null,
       "grid_row": null,
       "grid_template_areas": null,
       "grid_template_columns": null,
       "grid_template_rows": null,
       "height": null,
       "justify_content": null,
       "justify_items": null,
       "left": null,
       "margin": null,
       "max_height": null,
       "max_width": null,
       "min_height": null,
       "min_width": null,
       "object_fit": null,
       "object_position": null,
       "order": null,
       "overflow": null,
       "overflow_x": null,
       "overflow_y": null,
       "padding": null,
       "right": null,
       "top": null,
       "visibility": null,
       "width": null
      }
     },
     "03945f1cee31484ba7c27ffdcbfae930": {
      "model_module": "@jupyter-widgets/controls",
      "model_module_version": "1.5.0",
      "model_name": "HBoxModel",
      "state": {
       "_dom_classes": [],
       "_model_module": "@jupyter-widgets/controls",
       "_model_module_version": "1.5.0",
       "_model_name": "HBoxModel",
       "_view_count": null,
       "_view_module": "@jupyter-widgets/controls",
       "_view_module_version": "1.5.0",
       "_view_name": "HBoxView",
       "box_style": "",
       "children": [
        "IPY_MODEL_5af4d44c18d74d82a69ed43bfe9549af",
        "IPY_MODEL_32d6604d3d8c4f63a0a96926b50d4caf",
        "IPY_MODEL_f082ccb7279d4867aa2625a895fa5bb8"
       ],
       "layout": "IPY_MODEL_4d6ce5f79b6446fea123e3c4b28e1a8a"
      }
     },
     "061d7d13aeba491eab2663a5700cd73a": {
      "model_module": "@jupyter-widgets/controls",
      "model_module_version": "1.5.0",
      "model_name": "HTMLModel",
      "state": {
       "_dom_classes": [],
       "_model_module": "@jupyter-widgets/controls",
       "_model_module_version": "1.5.0",
       "_model_name": "HTMLModel",
       "_view_count": null,
       "_view_module": "@jupyter-widgets/controls",
       "_view_module_version": "1.5.0",
       "_view_name": "HTMLView",
       "description": "",
       "description_tooltip": null,
       "layout": "IPY_MODEL_bfa1fa8db95146479adb53499ac92732",
       "placeholder": "​",
       "style": "IPY_MODEL_6f75d32c95c44b6c906d1e10cfc8acf7",
       "value": " 28.0/28.0 [00:00&lt;00:00, 1.15kB/s]"
      }
     },
     "0831913db2ee45c0b9effc4ecb25b401": {
      "model_module": "@jupyter-widgets/base",
      "model_module_version": "1.2.0",
      "model_name": "LayoutModel",
      "state": {
       "_model_module": "@jupyter-widgets/base",
       "_model_module_version": "1.2.0",
       "_model_name": "LayoutModel",
       "_view_count": null,
       "_view_module": "@jupyter-widgets/base",
       "_view_module_version": "1.2.0",
       "_view_name": "LayoutView",
       "align_content": null,
       "align_items": null,
       "align_self": null,
       "border": null,
       "bottom": null,
       "display": null,
       "flex": null,
       "flex_flow": null,
       "grid_area": null,
       "grid_auto_columns": null,
       "grid_auto_flow": null,
       "grid_auto_rows": null,
       "grid_column": null,
       "grid_gap": null,
       "grid_row": null,
       "grid_template_areas": null,
       "grid_template_columns": null,
       "grid_template_rows": null,
       "height": null,
       "justify_content": null,
       "justify_items": null,
       "left": null,
       "margin": null,
       "max_height": null,
       "max_width": null,
       "min_height": null,
       "min_width": null,
       "object_fit": null,
       "object_position": null,
       "order": null,
       "overflow": null,
       "overflow_x": null,
       "overflow_y": null,
       "padding": null,
       "right": null,
       "top": null,
       "visibility": null,
       "width": null
      }
     },
     "08cc0cded0fe43c9ae757768ce1bda67": {
      "model_module": "@jupyter-widgets/controls",
      "model_module_version": "1.5.0",
      "model_name": "DescriptionStyleModel",
      "state": {
       "_model_module": "@jupyter-widgets/controls",
       "_model_module_version": "1.5.0",
       "_model_name": "DescriptionStyleModel",
       "_view_count": null,
       "_view_module": "@jupyter-widgets/base",
       "_view_module_version": "1.2.0",
       "_view_name": "StyleView",
       "description_width": ""
      }
     },
     "0f41531a3cd74394a72b5dcbeda1b346": {
      "model_module": "@jupyter-widgets/controls",
      "model_module_version": "1.5.0",
      "model_name": "DescriptionStyleModel",
      "state": {
       "_model_module": "@jupyter-widgets/controls",
       "_model_module_version": "1.5.0",
       "_model_name": "DescriptionStyleModel",
       "_view_count": null,
       "_view_module": "@jupyter-widgets/base",
       "_view_module_version": "1.2.0",
       "_view_name": "StyleView",
       "description_width": ""
      }
     },
     "1081a3057b164190996493188040c829": {
      "model_module": "@jupyter-widgets/base",
      "model_module_version": "1.2.0",
      "model_name": "LayoutModel",
      "state": {
       "_model_module": "@jupyter-widgets/base",
       "_model_module_version": "1.2.0",
       "_model_name": "LayoutModel",
       "_view_count": null,
       "_view_module": "@jupyter-widgets/base",
       "_view_module_version": "1.2.0",
       "_view_name": "LayoutView",
       "align_content": null,
       "align_items": null,
       "align_self": null,
       "border": null,
       "bottom": null,
       "display": null,
       "flex": null,
       "flex_flow": null,
       "grid_area": null,
       "grid_auto_columns": null,
       "grid_auto_flow": null,
       "grid_auto_rows": null,
       "grid_column": null,
       "grid_gap": null,
       "grid_row": null,
       "grid_template_areas": null,
       "grid_template_columns": null,
       "grid_template_rows": null,
       "height": null,
       "justify_content": null,
       "justify_items": null,
       "left": null,
       "margin": null,
       "max_height": null,
       "max_width": null,
       "min_height": null,
       "min_width": null,
       "object_fit": null,
       "object_position": null,
       "order": null,
       "overflow": null,
       "overflow_x": null,
       "overflow_y": null,
       "padding": null,
       "right": null,
       "top": null,
       "visibility": null,
       "width": null
      }
     },
     "23cff08eba6c44ee9d8348a79d70d881": {
      "model_module": "@jupyter-widgets/controls",
      "model_module_version": "1.5.0",
      "model_name": "HTMLModel",
      "state": {
       "_dom_classes": [],
       "_model_module": "@jupyter-widgets/controls",
       "_model_module_version": "1.5.0",
       "_model_name": "HTMLModel",
       "_view_count": null,
       "_view_module": "@jupyter-widgets/controls",
       "_view_module_version": "1.5.0",
       "_view_name": "HTMLView",
       "description": "",
       "description_tooltip": null,
       "layout": "IPY_MODEL_5c1a73b8fa9947fab28116b234341caa",
       "placeholder": "​",
       "style": "IPY_MODEL_0f41531a3cd74394a72b5dcbeda1b346",
       "value": " 226k/226k [00:00&lt;00:00, 2.53MB/s]"
      }
     },
     "28caa424d7d447108948cc976ed209e4": {
      "model_module": "@jupyter-widgets/base",
      "model_module_version": "1.2.0",
      "model_name": "LayoutModel",
      "state": {
       "_model_module": "@jupyter-widgets/base",
       "_model_module_version": "1.2.0",
       "_model_name": "LayoutModel",
       "_view_count": null,
       "_view_module": "@jupyter-widgets/base",
       "_view_module_version": "1.2.0",
       "_view_name": "LayoutView",
       "align_content": null,
       "align_items": null,
       "align_self": null,
       "border": null,
       "bottom": null,
       "display": null,
       "flex": null,
       "flex_flow": null,
       "grid_area": null,
       "grid_auto_columns": null,
       "grid_auto_flow": null,
       "grid_auto_rows": null,
       "grid_column": null,
       "grid_gap": null,
       "grid_row": null,
       "grid_template_areas": null,
       "grid_template_columns": null,
       "grid_template_rows": null,
       "height": null,
       "justify_content": null,
       "justify_items": null,
       "left": null,
       "margin": null,
       "max_height": null,
       "max_width": null,
       "min_height": null,
       "min_width": null,
       "object_fit": null,
       "object_position": null,
       "order": null,
       "overflow": null,
       "overflow_x": null,
       "overflow_y": null,
       "padding": null,
       "right": null,
       "top": null,
       "visibility": null,
       "width": null
      }
     },
     "2bb6cb92e9464b7e94708df54aaa5b85": {
      "model_module": "@jupyter-widgets/controls",
      "model_module_version": "1.5.0",
      "model_name": "HBoxModel",
      "state": {
       "_dom_classes": [],
       "_model_module": "@jupyter-widgets/controls",
       "_model_module_version": "1.5.0",
       "_model_name": "HBoxModel",
       "_view_count": null,
       "_view_module": "@jupyter-widgets/controls",
       "_view_module_version": "1.5.0",
       "_view_name": "HBoxView",
       "box_style": "",
       "children": [
        "IPY_MODEL_8d69ab8057664330973a65f69951ba4d",
        "IPY_MODEL_a8c8610457e14595b0a4d56d8a95dccc",
        "IPY_MODEL_f3c314972aae4224bb01cb527754d586"
       ],
       "layout": "IPY_MODEL_6ed0be7933dc42cd8a1d537f58acf1ad"
      }
     },
     "2c1a94d1b5d24dbea78bd8c16ee4c119": {
      "model_module": "@jupyter-widgets/controls",
      "model_module_version": "1.5.0",
      "model_name": "HTMLModel",
      "state": {
       "_dom_classes": [],
       "_model_module": "@jupyter-widgets/controls",
       "_model_module_version": "1.5.0",
       "_model_name": "HTMLModel",
       "_view_count": null,
       "_view_module": "@jupyter-widgets/controls",
       "_view_module_version": "1.5.0",
       "_view_name": "HTMLView",
       "description": "",
       "description_tooltip": null,
       "layout": "IPY_MODEL_72d629f8016d4afba8647e1bec364c52",
       "placeholder": "​",
       "style": "IPY_MODEL_feeb32b9fa5841f2a2f71e3124b81df4",
       "value": " 570/570 [00:00&lt;00:00, 23.4kB/s]"
      }
     },
     "2e5d66c813334e68a3bb2983d37272f9": {
      "model_module": "@jupyter-widgets/base",
      "model_module_version": "1.2.0",
      "model_name": "LayoutModel",
      "state": {
       "_model_module": "@jupyter-widgets/base",
       "_model_module_version": "1.2.0",
       "_model_name": "LayoutModel",
       "_view_count": null,
       "_view_module": "@jupyter-widgets/base",
       "_view_module_version": "1.2.0",
       "_view_name": "LayoutView",
       "align_content": null,
       "align_items": null,
       "align_self": null,
       "border": null,
       "bottom": null,
       "display": null,
       "flex": null,
       "flex_flow": null,
       "grid_area": null,
       "grid_auto_columns": null,
       "grid_auto_flow": null,
       "grid_auto_rows": null,
       "grid_column": null,
       "grid_gap": null,
       "grid_row": null,
       "grid_template_areas": null,
       "grid_template_columns": null,
       "grid_template_rows": null,
       "height": null,
       "justify_content": null,
       "justify_items": null,
       "left": null,
       "margin": null,
       "max_height": null,
       "max_width": null,
       "min_height": null,
       "min_width": null,
       "object_fit": null,
       "object_position": null,
       "order": null,
       "overflow": null,
       "overflow_x": null,
       "overflow_y": null,
       "padding": null,
       "right": null,
       "top": null,
       "visibility": null,
       "width": null
      }
     },
     "32d6604d3d8c4f63a0a96926b50d4caf": {
      "model_module": "@jupyter-widgets/controls",
      "model_module_version": "1.5.0",
      "model_name": "FloatProgressModel",
      "state": {
       "_dom_classes": [],
       "_model_module": "@jupyter-widgets/controls",
       "_model_module_version": "1.5.0",
       "_model_name": "FloatProgressModel",
       "_view_count": null,
       "_view_module": "@jupyter-widgets/controls",
       "_view_module_version": "1.5.0",
       "_view_name": "ProgressView",
       "bar_style": "success",
       "description": "",
       "description_tooltip": null,
       "layout": "IPY_MODEL_94a5fa8b954c458dac6a1bd2adb92285",
       "max": 440473133.0,
       "min": 0.0,
       "orientation": "horizontal",
       "style": "IPY_MODEL_fccd282515ed414faa8037f13ca02ad3",
       "value": 440473133.0
      }
     },
     "33d9d5a40b2a4e358e79ccaaf4e91627": {
      "model_module": "@jupyter-widgets/controls",
      "model_module_version": "1.5.0",
      "model_name": "ProgressStyleModel",
      "state": {
       "_model_module": "@jupyter-widgets/controls",
       "_model_module_version": "1.5.0",
       "_model_name": "ProgressStyleModel",
       "_view_count": null,
       "_view_module": "@jupyter-widgets/base",
       "_view_module_version": "1.2.0",
       "_view_name": "StyleView",
       "bar_color": null,
       "description_width": ""
      }
     },
     "387d7e2f7cbc4458a135ab82cbe1ecd9": {
      "model_module": "@jupyter-widgets/controls",
      "model_module_version": "1.5.0",
      "model_name": "FloatProgressModel",
      "state": {
       "_dom_classes": [],
       "_model_module": "@jupyter-widgets/controls",
       "_model_module_version": "1.5.0",
       "_model_name": "FloatProgressModel",
       "_view_count": null,
       "_view_module": "@jupyter-widgets/controls",
       "_view_module_version": "1.5.0",
       "_view_name": "ProgressView",
       "bar_style": "success",
       "description": "",
       "description_tooltip": null,
       "layout": "IPY_MODEL_28caa424d7d447108948cc976ed209e4",
       "max": 570.0,
       "min": 0.0,
       "orientation": "horizontal",
       "style": "IPY_MODEL_589890b18d86464e97be30eca3699141",
       "value": 570.0
      }
     },
     "3f6d72bcda91416198d406abd41f6097": {
      "model_module": "@jupyter-widgets/base",
      "model_module_version": "1.2.0",
      "model_name": "LayoutModel",
      "state": {
       "_model_module": "@jupyter-widgets/base",
       "_model_module_version": "1.2.0",
       "_model_name": "LayoutModel",
       "_view_count": null,
       "_view_module": "@jupyter-widgets/base",
       "_view_module_version": "1.2.0",
       "_view_name": "LayoutView",
       "align_content": null,
       "align_items": null,
       "align_self": null,
       "border": null,
       "bottom": null,
       "display": null,
       "flex": null,
       "flex_flow": null,
       "grid_area": null,
       "grid_auto_columns": null,
       "grid_auto_flow": null,
       "grid_auto_rows": null,
       "grid_column": null,
       "grid_gap": null,
       "grid_row": null,
       "grid_template_areas": null,
       "grid_template_columns": null,
       "grid_template_rows": null,
       "height": null,
       "justify_content": null,
       "justify_items": null,
       "left": null,
       "margin": null,
       "max_height": null,
       "max_width": null,
       "min_height": null,
       "min_width": null,
       "object_fit": null,
       "object_position": null,
       "order": null,
       "overflow": null,
       "overflow_x": null,
       "overflow_y": null,
       "padding": null,
       "right": null,
       "top": null,
       "visibility": null,
       "width": null
      }
     },
     "4256316fc0bf47148ec6082c0a618572": {
      "model_module": "@jupyter-widgets/base",
      "model_module_version": "1.2.0",
      "model_name": "LayoutModel",
      "state": {
       "_model_module": "@jupyter-widgets/base",
       "_model_module_version": "1.2.0",
       "_model_name": "LayoutModel",
       "_view_count": null,
       "_view_module": "@jupyter-widgets/base",
       "_view_module_version": "1.2.0",
       "_view_name": "LayoutView",
       "align_content": null,
       "align_items": null,
       "align_self": null,
       "border": null,
       "bottom": null,
       "display": null,
       "flex": null,
       "flex_flow": null,
       "grid_area": null,
       "grid_auto_columns": null,
       "grid_auto_flow": null,
       "grid_auto_rows": null,
       "grid_column": null,
       "grid_gap": null,
       "grid_row": null,
       "grid_template_areas": null,
       "grid_template_columns": null,
       "grid_template_rows": null,
       "height": null,
       "justify_content": null,
       "justify_items": null,
       "left": null,
       "margin": null,
       "max_height": null,
       "max_width": null,
       "min_height": null,
       "min_width": null,
       "object_fit": null,
       "object_position": null,
       "order": null,
       "overflow": null,
       "overflow_x": null,
       "overflow_y": null,
       "padding": null,
       "right": null,
       "top": null,
       "visibility": null,
       "width": null
      }
     },
     "46474f93546c4db0b690b43aa6a055a2": {
      "model_module": "@jupyter-widgets/base",
      "model_module_version": "1.2.0",
      "model_name": "LayoutModel",
      "state": {
       "_model_module": "@jupyter-widgets/base",
       "_model_module_version": "1.2.0",
       "_model_name": "LayoutModel",
       "_view_count": null,
       "_view_module": "@jupyter-widgets/base",
       "_view_module_version": "1.2.0",
       "_view_name": "LayoutView",
       "align_content": null,
       "align_items": null,
       "align_self": null,
       "border": null,
       "bottom": null,
       "display": null,
       "flex": null,
       "flex_flow": null,
       "grid_area": null,
       "grid_auto_columns": null,
       "grid_auto_flow": null,
       "grid_auto_rows": null,
       "grid_column": null,
       "grid_gap": null,
       "grid_row": null,
       "grid_template_areas": null,
       "grid_template_columns": null,
       "grid_template_rows": null,
       "height": null,
       "justify_content": null,
       "justify_items": null,
       "left": null,
       "margin": null,
       "max_height": null,
       "max_width": null,
       "min_height": null,
       "min_width": null,
       "object_fit": null,
       "object_position": null,
       "order": null,
       "overflow": null,
       "overflow_x": null,
       "overflow_y": null,
       "padding": null,
       "right": null,
       "top": null,
       "visibility": null,
       "width": null
      }
     },
     "47d20447bf704810bf6d47ed616401b5": {
      "model_module": "@jupyter-widgets/controls",
      "model_module_version": "1.5.0",
      "model_name": "ProgressStyleModel",
      "state": {
       "_model_module": "@jupyter-widgets/controls",
       "_model_module_version": "1.5.0",
       "_model_name": "ProgressStyleModel",
       "_view_count": null,
       "_view_module": "@jupyter-widgets/base",
       "_view_module_version": "1.2.0",
       "_view_name": "StyleView",
       "bar_color": null,
       "description_width": ""
      }
     },
     "49f24274cfe042fb8274b5407ec2eeec": {
      "model_module": "@jupyter-widgets/controls",
      "model_module_version": "1.5.0",
      "model_name": "HBoxModel",
      "state": {
       "_dom_classes": [],
       "_model_module": "@jupyter-widgets/controls",
       "_model_module_version": "1.5.0",
       "_model_name": "HBoxModel",
       "_view_count": null,
       "_view_module": "@jupyter-widgets/controls",
       "_view_module_version": "1.5.0",
       "_view_name": "HBoxView",
       "box_style": "",
       "children": [
        "IPY_MODEL_4f37badaac8e41d4870c5cad137127c1",
        "IPY_MODEL_a895b33e64e74b21a3fb0b812de95838",
        "IPY_MODEL_23cff08eba6c44ee9d8348a79d70d881"
       ],
       "layout": "IPY_MODEL_0831913db2ee45c0b9effc4ecb25b401"
      }
     },
     "4b3e0f06f0514bbab20ab113da787517": {
      "model_module": "@jupyter-widgets/base",
      "model_module_version": "1.2.0",
      "model_name": "LayoutModel",
      "state": {
       "_model_module": "@jupyter-widgets/base",
       "_model_module_version": "1.2.0",
       "_model_name": "LayoutModel",
       "_view_count": null,
       "_view_module": "@jupyter-widgets/base",
       "_view_module_version": "1.2.0",
       "_view_name": "LayoutView",
       "align_content": null,
       "align_items": null,
       "align_self": null,
       "border": null,
       "bottom": null,
       "display": null,
       "flex": null,
       "flex_flow": null,
       "grid_area": null,
       "grid_auto_columns": null,
       "grid_auto_flow": null,
       "grid_auto_rows": null,
       "grid_column": null,
       "grid_gap": null,
       "grid_row": null,
       "grid_template_areas": null,
       "grid_template_columns": null,
       "grid_template_rows": null,
       "height": null,
       "justify_content": null,
       "justify_items": null,
       "left": null,
       "margin": null,
       "max_height": null,
       "max_width": null,
       "min_height": null,
       "min_width": null,
       "object_fit": null,
       "object_position": null,
       "order": null,
       "overflow": null,
       "overflow_x": null,
       "overflow_y": null,
       "padding": null,
       "right": null,
       "top": null,
       "visibility": null,
       "width": null
      }
     },
     "4d6ce5f79b6446fea123e3c4b28e1a8a": {
      "model_module": "@jupyter-widgets/base",
      "model_module_version": "1.2.0",
      "model_name": "LayoutModel",
      "state": {
       "_model_module": "@jupyter-widgets/base",
       "_model_module_version": "1.2.0",
       "_model_name": "LayoutModel",
       "_view_count": null,
       "_view_module": "@jupyter-widgets/base",
       "_view_module_version": "1.2.0",
       "_view_name": "LayoutView",
       "align_content": null,
       "align_items": null,
       "align_self": null,
       "border": null,
       "bottom": null,
       "display": null,
       "flex": null,
       "flex_flow": null,
       "grid_area": null,
       "grid_auto_columns": null,
       "grid_auto_flow": null,
       "grid_auto_rows": null,
       "grid_column": null,
       "grid_gap": null,
       "grid_row": null,
       "grid_template_areas": null,
       "grid_template_columns": null,
       "grid_template_rows": null,
       "height": null,
       "justify_content": null,
       "justify_items": null,
       "left": null,
       "margin": null,
       "max_height": null,
       "max_width": null,
       "min_height": null,
       "min_width": null,
       "object_fit": null,
       "object_position": null,
       "order": null,
       "overflow": null,
       "overflow_x": null,
       "overflow_y": null,
       "padding": null,
       "right": null,
       "top": null,
       "visibility": null,
       "width": null
      }
     },
     "4f37badaac8e41d4870c5cad137127c1": {
      "model_module": "@jupyter-widgets/controls",
      "model_module_version": "1.5.0",
      "model_name": "HTMLModel",
      "state": {
       "_dom_classes": [],
       "_model_module": "@jupyter-widgets/controls",
       "_model_module_version": "1.5.0",
       "_model_name": "HTMLModel",
       "_view_count": null,
       "_view_module": "@jupyter-widgets/controls",
       "_view_module_version": "1.5.0",
       "_view_name": "HTMLView",
       "description": "",
       "description_tooltip": null,
       "layout": "IPY_MODEL_59eac1f22a1148bb9204612700b451d2",
       "placeholder": "​",
       "style": "IPY_MODEL_08cc0cded0fe43c9ae757768ce1bda67",
       "value": "Downloading: 100%"
      }
     },
     "528faf8ca7b241128e64e6a9dd53feee": {
      "model_module": "@jupyter-widgets/base",
      "model_module_version": "1.2.0",
      "model_name": "LayoutModel",
      "state": {
       "_model_module": "@jupyter-widgets/base",
       "_model_module_version": "1.2.0",
       "_model_name": "LayoutModel",
       "_view_count": null,
       "_view_module": "@jupyter-widgets/base",
       "_view_module_version": "1.2.0",
       "_view_name": "LayoutView",
       "align_content": null,
       "align_items": null,
       "align_self": null,
       "border": null,
       "bottom": null,
       "display": null,
       "flex": null,
       "flex_flow": null,
       "grid_area": null,
       "grid_auto_columns": null,
       "grid_auto_flow": null,
       "grid_auto_rows": null,
       "grid_column": null,
       "grid_gap": null,
       "grid_row": null,
       "grid_template_areas": null,
       "grid_template_columns": null,
       "grid_template_rows": null,
       "height": null,
       "justify_content": null,
       "justify_items": null,
       "left": null,
       "margin": null,
       "max_height": null,
       "max_width": null,
       "min_height": null,
       "min_width": null,
       "object_fit": null,
       "object_position": null,
       "order": null,
       "overflow": null,
       "overflow_x": null,
       "overflow_y": null,
       "padding": null,
       "right": null,
       "top": null,
       "visibility": null,
       "width": null
      }
     },
     "537a5dc3b38b4087a42c54a2b1c77cbb": {
      "model_module": "@jupyter-widgets/base",
      "model_module_version": "1.2.0",
      "model_name": "LayoutModel",
      "state": {
       "_model_module": "@jupyter-widgets/base",
       "_model_module_version": "1.2.0",
       "_model_name": "LayoutModel",
       "_view_count": null,
       "_view_module": "@jupyter-widgets/base",
       "_view_module_version": "1.2.0",
       "_view_name": "LayoutView",
       "align_content": null,
       "align_items": null,
       "align_self": null,
       "border": null,
       "bottom": null,
       "display": null,
       "flex": null,
       "flex_flow": null,
       "grid_area": null,
       "grid_auto_columns": null,
       "grid_auto_flow": null,
       "grid_auto_rows": null,
       "grid_column": null,
       "grid_gap": null,
       "grid_row": null,
       "grid_template_areas": null,
       "grid_template_columns": null,
       "grid_template_rows": null,
       "height": null,
       "justify_content": null,
       "justify_items": null,
       "left": null,
       "margin": null,
       "max_height": null,
       "max_width": null,
       "min_height": null,
       "min_width": null,
       "object_fit": null,
       "object_position": null,
       "order": null,
       "overflow": null,
       "overflow_x": null,
       "overflow_y": null,
       "padding": null,
       "right": null,
       "top": null,
       "visibility": null,
       "width": null
      }
     },
     "589890b18d86464e97be30eca3699141": {
      "model_module": "@jupyter-widgets/controls",
      "model_module_version": "1.5.0",
      "model_name": "ProgressStyleModel",
      "state": {
       "_model_module": "@jupyter-widgets/controls",
       "_model_module_version": "1.5.0",
       "_model_name": "ProgressStyleModel",
       "_view_count": null,
       "_view_module": "@jupyter-widgets/base",
       "_view_module_version": "1.2.0",
       "_view_name": "StyleView",
       "bar_color": null,
       "description_width": ""
      }
     },
     "5936770ece5b44da9d3fefd827a3f65c": {
      "model_module": "@jupyter-widgets/controls",
      "model_module_version": "1.5.0",
      "model_name": "HTMLModel",
      "state": {
       "_dom_classes": [],
       "_model_module": "@jupyter-widgets/controls",
       "_model_module_version": "1.5.0",
       "_model_name": "HTMLModel",
       "_view_count": null,
       "_view_module": "@jupyter-widgets/controls",
       "_view_module_version": "1.5.0",
       "_view_name": "HTMLView",
       "description": "",
       "description_tooltip": null,
       "layout": "IPY_MODEL_3f6d72bcda91416198d406abd41f6097",
       "placeholder": "​",
       "style": "IPY_MODEL_9b0828387a1d4616944ad364ce3d7fec",
       "value": "Downloading: 100%"
      }
     },
     "59eac1f22a1148bb9204612700b451d2": {
      "model_module": "@jupyter-widgets/base",
      "model_module_version": "1.2.0",
      "model_name": "LayoutModel",
      "state": {
       "_model_module": "@jupyter-widgets/base",
       "_model_module_version": "1.2.0",
       "_model_name": "LayoutModel",
       "_view_count": null,
       "_view_module": "@jupyter-widgets/base",
       "_view_module_version": "1.2.0",
       "_view_name": "LayoutView",
       "align_content": null,
       "align_items": null,
       "align_self": null,
       "border": null,
       "bottom": null,
       "display": null,
       "flex": null,
       "flex_flow": null,
       "grid_area": null,
       "grid_auto_columns": null,
       "grid_auto_flow": null,
       "grid_auto_rows": null,
       "grid_column": null,
       "grid_gap": null,
       "grid_row": null,
       "grid_template_areas": null,
       "grid_template_columns": null,
       "grid_template_rows": null,
       "height": null,
       "justify_content": null,
       "justify_items": null,
       "left": null,
       "margin": null,
       "max_height": null,
       "max_width": null,
       "min_height": null,
       "min_width": null,
       "object_fit": null,
       "object_position": null,
       "order": null,
       "overflow": null,
       "overflow_x": null,
       "overflow_y": null,
       "padding": null,
       "right": null,
       "top": null,
       "visibility": null,
       "width": null
      }
     },
     "5abe337679c4464598400ceb6812fe7a": {
      "model_module": "@jupyter-widgets/controls",
      "model_module_version": "1.5.0",
      "model_name": "HTMLModel",
      "state": {
       "_dom_classes": [],
       "_model_module": "@jupyter-widgets/controls",
       "_model_module_version": "1.5.0",
       "_model_name": "HTMLModel",
       "_view_count": null,
       "_view_module": "@jupyter-widgets/controls",
       "_view_module_version": "1.5.0",
       "_view_name": "HTMLView",
       "description": "",
       "description_tooltip": null,
       "layout": "IPY_MODEL_f30450d545c9427991904ddde5cc2e0c",
       "placeholder": "​",
       "style": "IPY_MODEL_688c436ff8b54c4490084fc02eddd382",
       "value": "Downloading: 100%"
      }
     },
     "5af4d44c18d74d82a69ed43bfe9549af": {
      "model_module": "@jupyter-widgets/controls",
      "model_module_version": "1.5.0",
      "model_name": "HTMLModel",
      "state": {
       "_dom_classes": [],
       "_model_module": "@jupyter-widgets/controls",
       "_model_module_version": "1.5.0",
       "_model_name": "HTMLModel",
       "_view_count": null,
       "_view_module": "@jupyter-widgets/controls",
       "_view_module_version": "1.5.0",
       "_view_name": "HTMLView",
       "description": "",
       "description_tooltip": null,
       "layout": "IPY_MODEL_a015d1a9196d42859a1f1dc30b80ac07",
       "placeholder": "​",
       "style": "IPY_MODEL_ded2c638b6ff49f6b205da14b5df141d",
       "value": "Downloading: 100%"
      }
     },
     "5c1a73b8fa9947fab28116b234341caa": {
      "model_module": "@jupyter-widgets/base",
      "model_module_version": "1.2.0",
      "model_name": "LayoutModel",
      "state": {
       "_model_module": "@jupyter-widgets/base",
       "_model_module_version": "1.2.0",
       "_model_name": "LayoutModel",
       "_view_count": null,
       "_view_module": "@jupyter-widgets/base",
       "_view_module_version": "1.2.0",
       "_view_name": "LayoutView",
       "align_content": null,
       "align_items": null,
       "align_self": null,
       "border": null,
       "bottom": null,
       "display": null,
       "flex": null,
       "flex_flow": null,
       "grid_area": null,
       "grid_auto_columns": null,
       "grid_auto_flow": null,
       "grid_auto_rows": null,
       "grid_column": null,
       "grid_gap": null,
       "grid_row": null,
       "grid_template_areas": null,
       "grid_template_columns": null,
       "grid_template_rows": null,
       "height": null,
       "justify_content": null,
       "justify_items": null,
       "left": null,
       "margin": null,
       "max_height": null,
       "max_width": null,
       "min_height": null,
       "min_width": null,
       "object_fit": null,
       "object_position": null,
       "order": null,
       "overflow": null,
       "overflow_x": null,
       "overflow_y": null,
       "padding": null,
       "right": null,
       "top": null,
       "visibility": null,
       "width": null
      }
     },
     "5f3623469e6e46a18fef9a2cf6d69f9b": {
      "model_module": "@jupyter-widgets/base",
      "model_module_version": "1.2.0",
      "model_name": "LayoutModel",
      "state": {
       "_model_module": "@jupyter-widgets/base",
       "_model_module_version": "1.2.0",
       "_model_name": "LayoutModel",
       "_view_count": null,
       "_view_module": "@jupyter-widgets/base",
       "_view_module_version": "1.2.0",
       "_view_name": "LayoutView",
       "align_content": null,
       "align_items": null,
       "align_self": null,
       "border": null,
       "bottom": null,
       "display": null,
       "flex": null,
       "flex_flow": null,
       "grid_area": null,
       "grid_auto_columns": null,
       "grid_auto_flow": null,
       "grid_auto_rows": null,
       "grid_column": null,
       "grid_gap": null,
       "grid_row": null,
       "grid_template_areas": null,
       "grid_template_columns": null,
       "grid_template_rows": null,
       "height": null,
       "justify_content": null,
       "justify_items": null,
       "left": null,
       "margin": null,
       "max_height": null,
       "max_width": null,
       "min_height": null,
       "min_width": null,
       "object_fit": null,
       "object_position": null,
       "order": null,
       "overflow": null,
       "overflow_x": null,
       "overflow_y": null,
       "padding": null,
       "right": null,
       "top": null,
       "visibility": null,
       "width": null
      }
     },
     "616bed8b74a84884b1b7342fce28eee3": {
      "model_module": "@jupyter-widgets/controls",
      "model_module_version": "1.5.0",
      "model_name": "DescriptionStyleModel",
      "state": {
       "_model_module": "@jupyter-widgets/controls",
       "_model_module_version": "1.5.0",
       "_model_name": "DescriptionStyleModel",
       "_view_count": null,
       "_view_module": "@jupyter-widgets/base",
       "_view_module_version": "1.2.0",
       "_view_name": "StyleView",
       "description_width": ""
      }
     },
     "64798702a7a443f0a42cdaea95412132": {
      "model_module": "@jupyter-widgets/base",
      "model_module_version": "1.2.0",
      "model_name": "LayoutModel",
      "state": {
       "_model_module": "@jupyter-widgets/base",
       "_model_module_version": "1.2.0",
       "_model_name": "LayoutModel",
       "_view_count": null,
       "_view_module": "@jupyter-widgets/base",
       "_view_module_version": "1.2.0",
       "_view_name": "LayoutView",
       "align_content": null,
       "align_items": null,
       "align_self": null,
       "border": null,
       "bottom": null,
       "display": null,
       "flex": null,
       "flex_flow": null,
       "grid_area": null,
       "grid_auto_columns": null,
       "grid_auto_flow": null,
       "grid_auto_rows": null,
       "grid_column": null,
       "grid_gap": null,
       "grid_row": null,
       "grid_template_areas": null,
       "grid_template_columns": null,
       "grid_template_rows": null,
       "height": null,
       "justify_content": null,
       "justify_items": null,
       "left": null,
       "margin": null,
       "max_height": null,
       "max_width": null,
       "min_height": null,
       "min_width": null,
       "object_fit": null,
       "object_position": null,
       "order": null,
       "overflow": null,
       "overflow_x": null,
       "overflow_y": null,
       "padding": null,
       "right": null,
       "top": null,
       "visibility": null,
       "width": null
      }
     },
     "688c436ff8b54c4490084fc02eddd382": {
      "model_module": "@jupyter-widgets/controls",
      "model_module_version": "1.5.0",
      "model_name": "DescriptionStyleModel",
      "state": {
       "_model_module": "@jupyter-widgets/controls",
       "_model_module_version": "1.5.0",
       "_model_name": "DescriptionStyleModel",
       "_view_count": null,
       "_view_module": "@jupyter-widgets/base",
       "_view_module_version": "1.2.0",
       "_view_name": "StyleView",
       "description_width": ""
      }
     },
     "6ad29475057347f7b9e8defb5ee216a2": {
      "model_module": "@jupyter-widgets/controls",
      "model_module_version": "1.5.0",
      "model_name": "ProgressStyleModel",
      "state": {
       "_model_module": "@jupyter-widgets/controls",
       "_model_module_version": "1.5.0",
       "_model_name": "ProgressStyleModel",
       "_view_count": null,
       "_view_module": "@jupyter-widgets/base",
       "_view_module_version": "1.2.0",
       "_view_name": "StyleView",
       "bar_color": null,
       "description_width": ""
      }
     },
     "6ed0be7933dc42cd8a1d537f58acf1ad": {
      "model_module": "@jupyter-widgets/base",
      "model_module_version": "1.2.0",
      "model_name": "LayoutModel",
      "state": {
       "_model_module": "@jupyter-widgets/base",
       "_model_module_version": "1.2.0",
       "_model_name": "LayoutModel",
       "_view_count": null,
       "_view_module": "@jupyter-widgets/base",
       "_view_module_version": "1.2.0",
       "_view_name": "LayoutView",
       "align_content": null,
       "align_items": null,
       "align_self": null,
       "border": null,
       "bottom": null,
       "display": null,
       "flex": null,
       "flex_flow": null,
       "grid_area": null,
       "grid_auto_columns": null,
       "grid_auto_flow": null,
       "grid_auto_rows": null,
       "grid_column": null,
       "grid_gap": null,
       "grid_row": null,
       "grid_template_areas": null,
       "grid_template_columns": null,
       "grid_template_rows": null,
       "height": null,
       "justify_content": null,
       "justify_items": null,
       "left": null,
       "margin": null,
       "max_height": null,
       "max_width": null,
       "min_height": null,
       "min_width": null,
       "object_fit": null,
       "object_position": null,
       "order": null,
       "overflow": null,
       "overflow_x": null,
       "overflow_y": null,
       "padding": null,
       "right": null,
       "top": null,
       "visibility": null,
       "width": null
      }
     },
     "6f75d32c95c44b6c906d1e10cfc8acf7": {
      "model_module": "@jupyter-widgets/controls",
      "model_module_version": "1.5.0",
      "model_name": "DescriptionStyleModel",
      "state": {
       "_model_module": "@jupyter-widgets/controls",
       "_model_module_version": "1.5.0",
       "_model_name": "DescriptionStyleModel",
       "_view_count": null,
       "_view_module": "@jupyter-widgets/base",
       "_view_module_version": "1.2.0",
       "_view_name": "StyleView",
       "description_width": ""
      }
     },
     "70baff31597a44319185f240135038b2": {
      "model_module": "@jupyter-widgets/controls",
      "model_module_version": "1.5.0",
      "model_name": "DescriptionStyleModel",
      "state": {
       "_model_module": "@jupyter-widgets/controls",
       "_model_module_version": "1.5.0",
       "_model_name": "DescriptionStyleModel",
       "_view_count": null,
       "_view_module": "@jupyter-widgets/base",
       "_view_module_version": "1.2.0",
       "_view_name": "StyleView",
       "description_width": ""
      }
     },
     "717f3e6253054e3d8bd82e1e3990962d": {
      "model_module": "@jupyter-widgets/controls",
      "model_module_version": "1.5.0",
      "model_name": "HTMLModel",
      "state": {
       "_dom_classes": [],
       "_model_module": "@jupyter-widgets/controls",
       "_model_module_version": "1.5.0",
       "_model_name": "HTMLModel",
       "_view_count": null,
       "_view_module": "@jupyter-widgets/controls",
       "_view_module_version": "1.5.0",
       "_view_name": "HTMLView",
       "description": "",
       "description_tooltip": null,
       "layout": "IPY_MODEL_fc52741a07084029952a84fac007cc09",
       "placeholder": "​",
       "style": "IPY_MODEL_616bed8b74a84884b1b7342fce28eee3",
       "value": " 2050/2050 [06:00&lt;00:00,  6.21it/s]"
      }
     },
     "72d629f8016d4afba8647e1bec364c52": {
      "model_module": "@jupyter-widgets/base",
      "model_module_version": "1.2.0",
      "model_name": "LayoutModel",
      "state": {
       "_model_module": "@jupyter-widgets/base",
       "_model_module_version": "1.2.0",
       "_model_name": "LayoutModel",
       "_view_count": null,
       "_view_module": "@jupyter-widgets/base",
       "_view_module_version": "1.2.0",
       "_view_name": "LayoutView",
       "align_content": null,
       "align_items": null,
       "align_self": null,
       "border": null,
       "bottom": null,
       "display": null,
       "flex": null,
       "flex_flow": null,
       "grid_area": null,
       "grid_auto_columns": null,
       "grid_auto_flow": null,
       "grid_auto_rows": null,
       "grid_column": null,
       "grid_gap": null,
       "grid_row": null,
       "grid_template_areas": null,
       "grid_template_columns": null,
       "grid_template_rows": null,
       "height": null,
       "justify_content": null,
       "justify_items": null,
       "left": null,
       "margin": null,
       "max_height": null,
       "max_width": null,
       "min_height": null,
       "min_width": null,
       "object_fit": null,
       "object_position": null,
       "order": null,
       "overflow": null,
       "overflow_x": null,
       "overflow_y": null,
       "padding": null,
       "right": null,
       "top": null,
       "visibility": null,
       "width": null
      }
     },
     "7b96082e9a4d4d1b8136d0a0c8bc49de": {
      "model_module": "@jupyter-widgets/base",
      "model_module_version": "1.2.0",
      "model_name": "LayoutModel",
      "state": {
       "_model_module": "@jupyter-widgets/base",
       "_model_module_version": "1.2.0",
       "_model_name": "LayoutModel",
       "_view_count": null,
       "_view_module": "@jupyter-widgets/base",
       "_view_module_version": "1.2.0",
       "_view_name": "LayoutView",
       "align_content": null,
       "align_items": null,
       "align_self": null,
       "border": null,
       "bottom": null,
       "display": null,
       "flex": null,
       "flex_flow": null,
       "grid_area": null,
       "grid_auto_columns": null,
       "grid_auto_flow": null,
       "grid_auto_rows": null,
       "grid_column": null,
       "grid_gap": null,
       "grid_row": null,
       "grid_template_areas": null,
       "grid_template_columns": null,
       "grid_template_rows": null,
       "height": null,
       "justify_content": null,
       "justify_items": null,
       "left": null,
       "margin": null,
       "max_height": null,
       "max_width": null,
       "min_height": null,
       "min_width": null,
       "object_fit": null,
       "object_position": null,
       "order": null,
       "overflow": null,
       "overflow_x": null,
       "overflow_y": null,
       "padding": null,
       "right": null,
       "top": null,
       "visibility": null,
       "width": null
      }
     },
     "819c2d7a0a15443ba36379ccf220045c": {
      "model_module": "@jupyter-widgets/controls",
      "model_module_version": "1.5.0",
      "model_name": "HBoxModel",
      "state": {
       "_dom_classes": [],
       "_model_module": "@jupyter-widgets/controls",
       "_model_module_version": "1.5.0",
       "_model_name": "HBoxModel",
       "_view_count": null,
       "_view_module": "@jupyter-widgets/controls",
       "_view_module_version": "1.5.0",
       "_view_name": "HBoxView",
       "box_style": "",
       "children": [
        "IPY_MODEL_5abe337679c4464598400ceb6812fe7a",
        "IPY_MODEL_c9b0dacd51354412a8b4533464e2d6ed",
        "IPY_MODEL_061d7d13aeba491eab2663a5700cd73a"
       ],
       "layout": "IPY_MODEL_64798702a7a443f0a42cdaea95412132"
      }
     },
     "8630ee1b9b93495ebec3cddd22bca47b": {
      "model_module": "@jupyter-widgets/controls",
      "model_module_version": "1.5.0",
      "model_name": "DescriptionStyleModel",
      "state": {
       "_model_module": "@jupyter-widgets/controls",
       "_model_module_version": "1.5.0",
       "_model_name": "DescriptionStyleModel",
       "_view_count": null,
       "_view_module": "@jupyter-widgets/base",
       "_view_module_version": "1.2.0",
       "_view_name": "StyleView",
       "description_width": ""
      }
     },
     "8d69ab8057664330973a65f69951ba4d": {
      "model_module": "@jupyter-widgets/controls",
      "model_module_version": "1.5.0",
      "model_name": "HTMLModel",
      "state": {
       "_dom_classes": [],
       "_model_module": "@jupyter-widgets/controls",
       "_model_module_version": "1.5.0",
       "_model_name": "HTMLModel",
       "_view_count": null,
       "_view_module": "@jupyter-widgets/controls",
       "_view_module_version": "1.5.0",
       "_view_name": "HTMLView",
       "description": "",
       "description_tooltip": null,
       "layout": "IPY_MODEL_46474f93546c4db0b690b43aa6a055a2",
       "placeholder": "​",
       "style": "IPY_MODEL_d46a896e74814a9d9fef45a5b058d91d",
       "value": "100%"
      }
     },
     "8f21b0e5664f46739b8250dfe3e4b59e": {
      "model_module": "@jupyter-widgets/base",
      "model_module_version": "1.2.0",
      "model_name": "LayoutModel",
      "state": {
       "_model_module": "@jupyter-widgets/base",
       "_model_module_version": "1.2.0",
       "_model_name": "LayoutModel",
       "_view_count": null,
       "_view_module": "@jupyter-widgets/base",
       "_view_module_version": "1.2.0",
       "_view_name": "LayoutView",
       "align_content": null,
       "align_items": null,
       "align_self": null,
       "border": null,
       "bottom": null,
       "display": null,
       "flex": null,
       "flex_flow": null,
       "grid_area": null,
       "grid_auto_columns": null,
       "grid_auto_flow": null,
       "grid_auto_rows": null,
       "grid_column": null,
       "grid_gap": null,
       "grid_row": null,
       "grid_template_areas": null,
       "grid_template_columns": null,
       "grid_template_rows": null,
       "height": null,
       "justify_content": null,
       "justify_items": null,
       "left": null,
       "margin": null,
       "max_height": null,
       "max_width": null,
       "min_height": null,
       "min_width": null,
       "object_fit": null,
       "object_position": null,
       "order": null,
       "overflow": null,
       "overflow_x": null,
       "overflow_y": null,
       "padding": null,
       "right": null,
       "top": null,
       "visibility": null,
       "width": null
      }
     },
     "8f3762feb2184bb180f56a30f74d063c": {
      "model_module": "@jupyter-widgets/controls",
      "model_module_version": "1.5.0",
      "model_name": "HTMLModel",
      "state": {
       "_dom_classes": [],
       "_model_module": "@jupyter-widgets/controls",
       "_model_module_version": "1.5.0",
       "_model_name": "HTMLModel",
       "_view_count": null,
       "_view_module": "@jupyter-widgets/controls",
       "_view_module_version": "1.5.0",
       "_view_name": "HTMLView",
       "description": "",
       "description_tooltip": null,
       "layout": "IPY_MODEL_528faf8ca7b241128e64e6a9dd53feee",
       "placeholder": "​",
       "style": "IPY_MODEL_ff50b21833884335afa8f30e99f493b3",
       "value": "Downloading: 100%"
      }
     },
     "8fc2a43e0b084b079354ffd8ebcd0def": {
      "model_module": "@jupyter-widgets/base",
      "model_module_version": "1.2.0",
      "model_name": "LayoutModel",
      "state": {
       "_model_module": "@jupyter-widgets/base",
       "_model_module_version": "1.2.0",
       "_model_name": "LayoutModel",
       "_view_count": null,
       "_view_module": "@jupyter-widgets/base",
       "_view_module_version": "1.2.0",
       "_view_name": "LayoutView",
       "align_content": null,
       "align_items": null,
       "align_self": null,
       "border": null,
       "bottom": null,
       "display": null,
       "flex": null,
       "flex_flow": null,
       "grid_area": null,
       "grid_auto_columns": null,
       "grid_auto_flow": null,
       "grid_auto_rows": null,
       "grid_column": null,
       "grid_gap": null,
       "grid_row": null,
       "grid_template_areas": null,
       "grid_template_columns": null,
       "grid_template_rows": null,
       "height": null,
       "justify_content": null,
       "justify_items": null,
       "left": null,
       "margin": null,
       "max_height": null,
       "max_width": null,
       "min_height": null,
       "min_width": null,
       "object_fit": null,
       "object_position": null,
       "order": null,
       "overflow": null,
       "overflow_x": null,
       "overflow_y": null,
       "padding": null,
       "right": null,
       "top": null,
       "visibility": null,
       "width": null
      }
     },
     "920f6e14926245bba47ffd4af4e2bc87": {
      "model_module": "@jupyter-widgets/controls",
      "model_module_version": "1.5.0",
      "model_name": "HBoxModel",
      "state": {
       "_dom_classes": [],
       "_model_module": "@jupyter-widgets/controls",
       "_model_module_version": "1.5.0",
       "_model_name": "HBoxModel",
       "_view_count": null,
       "_view_module": "@jupyter-widgets/controls",
       "_view_module_version": "1.5.0",
       "_view_name": "HBoxView",
       "box_style": "",
       "children": [
        "IPY_MODEL_8f3762feb2184bb180f56a30f74d063c",
        "IPY_MODEL_fd94440676404b47bb99da3ae86aa21c",
        "IPY_MODEL_ae714231238b4aeab61dcd00a7ed3d3f"
       ],
       "layout": "IPY_MODEL_7b96082e9a4d4d1b8136d0a0c8bc49de"
      }
     },
     "94a5fa8b954c458dac6a1bd2adb92285": {
      "model_module": "@jupyter-widgets/base",
      "model_module_version": "1.2.0",
      "model_name": "LayoutModel",
      "state": {
       "_model_module": "@jupyter-widgets/base",
       "_model_module_version": "1.2.0",
       "_model_name": "LayoutModel",
       "_view_count": null,
       "_view_module": "@jupyter-widgets/base",
       "_view_module_version": "1.2.0",
       "_view_name": "LayoutView",
       "align_content": null,
       "align_items": null,
       "align_self": null,
       "border": null,
       "bottom": null,
       "display": null,
       "flex": null,
       "flex_flow": null,
       "grid_area": null,
       "grid_auto_columns": null,
       "grid_auto_flow": null,
       "grid_auto_rows": null,
       "grid_column": null,
       "grid_gap": null,
       "grid_row": null,
       "grid_template_areas": null,
       "grid_template_columns": null,
       "grid_template_rows": null,
       "height": null,
       "justify_content": null,
       "justify_items": null,
       "left": null,
       "margin": null,
       "max_height": null,
       "max_width": null,
       "min_height": null,
       "min_width": null,
       "object_fit": null,
       "object_position": null,
       "order": null,
       "overflow": null,
       "overflow_x": null,
       "overflow_y": null,
       "padding": null,
       "right": null,
       "top": null,
       "visibility": null,
       "width": null
      }
     },
     "975d8d1edb1144b5a0801bfecebf272d": {
      "model_module": "@jupyter-widgets/controls",
      "model_module_version": "1.5.0",
      "model_name": "FloatProgressModel",
      "state": {
       "_dom_classes": [],
       "_model_module": "@jupyter-widgets/controls",
       "_model_module_version": "1.5.0",
       "_model_name": "FloatProgressModel",
       "_view_count": null,
       "_view_module": "@jupyter-widgets/controls",
       "_view_module_version": "1.5.0",
       "_view_name": "ProgressView",
       "bar_style": "",
       "description": "",
       "description_tooltip": null,
       "layout": "IPY_MODEL_8f21b0e5664f46739b8250dfe3e4b59e",
       "max": 2050.0,
       "min": 0.0,
       "orientation": "horizontal",
       "style": "IPY_MODEL_ebec5bf5e5b24a31995cc7e576cdfaf0",
       "value": 2050.0
      }
     },
     "9b0828387a1d4616944ad364ce3d7fec": {
      "model_module": "@jupyter-widgets/controls",
      "model_module_version": "1.5.0",
      "model_name": "DescriptionStyleModel",
      "state": {
       "_model_module": "@jupyter-widgets/controls",
       "_model_module_version": "1.5.0",
       "_model_name": "DescriptionStyleModel",
       "_view_count": null,
       "_view_module": "@jupyter-widgets/base",
       "_view_module_version": "1.2.0",
       "_view_name": "StyleView",
       "description_width": ""
      }
     },
     "9e90ce5908c84fea97dbdf8674d37831": {
      "model_module": "@jupyter-widgets/controls",
      "model_module_version": "1.5.0",
      "model_name": "HBoxModel",
      "state": {
       "_dom_classes": [],
       "_model_module": "@jupyter-widgets/controls",
       "_model_module_version": "1.5.0",
       "_model_name": "HBoxModel",
       "_view_count": null,
       "_view_module": "@jupyter-widgets/controls",
       "_view_module_version": "1.5.0",
       "_view_name": "HBoxView",
       "box_style": "",
       "children": [
        "IPY_MODEL_da26367dd980436c9535ea1288ad10fa",
        "IPY_MODEL_975d8d1edb1144b5a0801bfecebf272d",
        "IPY_MODEL_717f3e6253054e3d8bd82e1e3990962d"
       ],
       "layout": "IPY_MODEL_5f3623469e6e46a18fef9a2cf6d69f9b"
      }
     },
     "a015d1a9196d42859a1f1dc30b80ac07": {
      "model_module": "@jupyter-widgets/base",
      "model_module_version": "1.2.0",
      "model_name": "LayoutModel",
      "state": {
       "_model_module": "@jupyter-widgets/base",
       "_model_module_version": "1.2.0",
       "_model_name": "LayoutModel",
       "_view_count": null,
       "_view_module": "@jupyter-widgets/base",
       "_view_module_version": "1.2.0",
       "_view_name": "LayoutView",
       "align_content": null,
       "align_items": null,
       "align_self": null,
       "border": null,
       "bottom": null,
       "display": null,
       "flex": null,
       "flex_flow": null,
       "grid_area": null,
       "grid_auto_columns": null,
       "grid_auto_flow": null,
       "grid_auto_rows": null,
       "grid_column": null,
       "grid_gap": null,
       "grid_row": null,
       "grid_template_areas": null,
       "grid_template_columns": null,
       "grid_template_rows": null,
       "height": null,
       "justify_content": null,
       "justify_items": null,
       "left": null,
       "margin": null,
       "max_height": null,
       "max_width": null,
       "min_height": null,
       "min_width": null,
       "object_fit": null,
       "object_position": null,
       "order": null,
       "overflow": null,
       "overflow_x": null,
       "overflow_y": null,
       "padding": null,
       "right": null,
       "top": null,
       "visibility": null,
       "width": null
      }
     },
     "a895b33e64e74b21a3fb0b812de95838": {
      "model_module": "@jupyter-widgets/controls",
      "model_module_version": "1.5.0",
      "model_name": "FloatProgressModel",
      "state": {
       "_dom_classes": [],
       "_model_module": "@jupyter-widgets/controls",
       "_model_module_version": "1.5.0",
       "_model_name": "FloatProgressModel",
       "_view_count": null,
       "_view_module": "@jupyter-widgets/controls",
       "_view_module_version": "1.5.0",
       "_view_name": "ProgressView",
       "bar_style": "success",
       "description": "",
       "description_tooltip": null,
       "layout": "IPY_MODEL_bdc2e3e0d24142c1af6b53e2428f38aa",
       "max": 231508.0,
       "min": 0.0,
       "orientation": "horizontal",
       "style": "IPY_MODEL_47d20447bf704810bf6d47ed616401b5",
       "value": 231508.0
      }
     },
     "a8c8610457e14595b0a4d56d8a95dccc": {
      "model_module": "@jupyter-widgets/controls",
      "model_module_version": "1.5.0",
      "model_name": "FloatProgressModel",
      "state": {
       "_dom_classes": [],
       "_model_module": "@jupyter-widgets/controls",
       "_model_module_version": "1.5.0",
       "_model_name": "FloatProgressModel",
       "_view_count": null,
       "_view_module": "@jupyter-widgets/controls",
       "_view_module_version": "1.5.0",
       "_view_name": "ProgressView",
       "bar_style": "success",
       "description": "",
       "description_tooltip": null,
       "layout": "IPY_MODEL_0348cac85c1d4e9885ca00ef4a53415a",
       "max": 2050.0,
       "min": 0.0,
       "orientation": "horizontal",
       "style": "IPY_MODEL_6ad29475057347f7b9e8defb5ee216a2",
       "value": 2050.0
      }
     },
     "ae714231238b4aeab61dcd00a7ed3d3f": {
      "model_module": "@jupyter-widgets/controls",
      "model_module_version": "1.5.0",
      "model_name": "HTMLModel",
      "state": {
       "_dom_classes": [],
       "_model_module": "@jupyter-widgets/controls",
       "_model_module_version": "1.5.0",
       "_model_name": "HTMLModel",
       "_view_count": null,
       "_view_module": "@jupyter-widgets/controls",
       "_view_module_version": "1.5.0",
       "_view_name": "HTMLView",
       "description": "",
       "description_tooltip": null,
       "layout": "IPY_MODEL_4b3e0f06f0514bbab20ab113da787517",
       "placeholder": "​",
       "style": "IPY_MODEL_f3acbb562e70411db29cb6bb7d7b54fb",
       "value": " 455k/455k [00:00&lt;00:00, 3.72MB/s]"
      }
     },
     "bdc2e3e0d24142c1af6b53e2428f38aa": {
      "model_module": "@jupyter-widgets/base",
      "model_module_version": "1.2.0",
      "model_name": "LayoutModel",
      "state": {
       "_model_module": "@jupyter-widgets/base",
       "_model_module_version": "1.2.0",
       "_model_name": "LayoutModel",
       "_view_count": null,
       "_view_module": "@jupyter-widgets/base",
       "_view_module_version": "1.2.0",
       "_view_name": "LayoutView",
       "align_content": null,
       "align_items": null,
       "align_self": null,
       "border": null,
       "bottom": null,
       "display": null,
       "flex": null,
       "flex_flow": null,
       "grid_area": null,
       "grid_auto_columns": null,
       "grid_auto_flow": null,
       "grid_auto_rows": null,
       "grid_column": null,
       "grid_gap": null,
       "grid_row": null,
       "grid_template_areas": null,
       "grid_template_columns": null,
       "grid_template_rows": null,
       "height": null,
       "justify_content": null,
       "justify_items": null,
       "left": null,
       "margin": null,
       "max_height": null,
       "max_width": null,
       "min_height": null,
       "min_width": null,
       "object_fit": null,
       "object_position": null,
       "order": null,
       "overflow": null,
       "overflow_x": null,
       "overflow_y": null,
       "padding": null,
       "right": null,
       "top": null,
       "visibility": null,
       "width": null
      }
     },
     "bfa1fa8db95146479adb53499ac92732": {
      "model_module": "@jupyter-widgets/base",
      "model_module_version": "1.2.0",
      "model_name": "LayoutModel",
      "state": {
       "_model_module": "@jupyter-widgets/base",
       "_model_module_version": "1.2.0",
       "_model_name": "LayoutModel",
       "_view_count": null,
       "_view_module": "@jupyter-widgets/base",
       "_view_module_version": "1.2.0",
       "_view_name": "LayoutView",
       "align_content": null,
       "align_items": null,
       "align_self": null,
       "border": null,
       "bottom": null,
       "display": null,
       "flex": null,
       "flex_flow": null,
       "grid_area": null,
       "grid_auto_columns": null,
       "grid_auto_flow": null,
       "grid_auto_rows": null,
       "grid_column": null,
       "grid_gap": null,
       "grid_row": null,
       "grid_template_areas": null,
       "grid_template_columns": null,
       "grid_template_rows": null,
       "height": null,
       "justify_content": null,
       "justify_items": null,
       "left": null,
       "margin": null,
       "max_height": null,
       "max_width": null,
       "min_height": null,
       "min_width": null,
       "object_fit": null,
       "object_position": null,
       "order": null,
       "overflow": null,
       "overflow_x": null,
       "overflow_y": null,
       "padding": null,
       "right": null,
       "top": null,
       "visibility": null,
       "width": null
      }
     },
     "c9b0dacd51354412a8b4533464e2d6ed": {
      "model_module": "@jupyter-widgets/controls",
      "model_module_version": "1.5.0",
      "model_name": "FloatProgressModel",
      "state": {
       "_dom_classes": [],
       "_model_module": "@jupyter-widgets/controls",
       "_model_module_version": "1.5.0",
       "_model_name": "FloatProgressModel",
       "_view_count": null,
       "_view_module": "@jupyter-widgets/controls",
       "_view_module_version": "1.5.0",
       "_view_name": "ProgressView",
       "bar_style": "success",
       "description": "",
       "description_tooltip": null,
       "layout": "IPY_MODEL_8fc2a43e0b084b079354ffd8ebcd0def",
       "max": 28.0,
       "min": 0.0,
       "orientation": "horizontal",
       "style": "IPY_MODEL_33d9d5a40b2a4e358e79ccaaf4e91627",
       "value": 28.0
      }
     },
     "c9e5aa2cf0f248fd88a77fa485725b70": {
      "model_module": "@jupyter-widgets/controls",
      "model_module_version": "1.5.0",
      "model_name": "DescriptionStyleModel",
      "state": {
       "_model_module": "@jupyter-widgets/controls",
       "_model_module_version": "1.5.0",
       "_model_name": "DescriptionStyleModel",
       "_view_count": null,
       "_view_module": "@jupyter-widgets/base",
       "_view_module_version": "1.2.0",
       "_view_name": "StyleView",
       "description_width": ""
      }
     },
     "d46a896e74814a9d9fef45a5b058d91d": {
      "model_module": "@jupyter-widgets/controls",
      "model_module_version": "1.5.0",
      "model_name": "DescriptionStyleModel",
      "state": {
       "_model_module": "@jupyter-widgets/controls",
       "_model_module_version": "1.5.0",
       "_model_name": "DescriptionStyleModel",
       "_view_count": null,
       "_view_module": "@jupyter-widgets/base",
       "_view_module_version": "1.2.0",
       "_view_name": "StyleView",
       "description_width": ""
      }
     },
     "da26367dd980436c9535ea1288ad10fa": {
      "model_module": "@jupyter-widgets/controls",
      "model_module_version": "1.5.0",
      "model_name": "HTMLModel",
      "state": {
       "_dom_classes": [],
       "_model_module": "@jupyter-widgets/controls",
       "_model_module_version": "1.5.0",
       "_model_name": "HTMLModel",
       "_view_count": null,
       "_view_module": "@jupyter-widgets/controls",
       "_view_module_version": "1.5.0",
       "_view_name": "HTMLView",
       "description": "",
       "description_tooltip": null,
       "layout": "IPY_MODEL_e35c83ae66ed4ac99954136449527e86",
       "placeholder": "​",
       "style": "IPY_MODEL_c9e5aa2cf0f248fd88a77fa485725b70",
       "value": "100%"
      }
     },
     "dc8e0463c8ad406db054af3ffc6dcf7f": {
      "model_module": "@jupyter-widgets/controls",
      "model_module_version": "1.5.0",
      "model_name": "ProgressStyleModel",
      "state": {
       "_model_module": "@jupyter-widgets/controls",
       "_model_module_version": "1.5.0",
       "_model_name": "ProgressStyleModel",
       "_view_count": null,
       "_view_module": "@jupyter-widgets/base",
       "_view_module_version": "1.2.0",
       "_view_name": "StyleView",
       "bar_color": null,
       "description_width": ""
      }
     },
     "ded2c638b6ff49f6b205da14b5df141d": {
      "model_module": "@jupyter-widgets/controls",
      "model_module_version": "1.5.0",
      "model_name": "DescriptionStyleModel",
      "state": {
       "_model_module": "@jupyter-widgets/controls",
       "_model_module_version": "1.5.0",
       "_model_name": "DescriptionStyleModel",
       "_view_count": null,
       "_view_module": "@jupyter-widgets/base",
       "_view_module_version": "1.2.0",
       "_view_name": "StyleView",
       "description_width": ""
      }
     },
     "e32331e4f6864226858eb7a3f753e159": {
      "model_module": "@jupyter-widgets/controls",
      "model_module_version": "1.5.0",
      "model_name": "HBoxModel",
      "state": {
       "_dom_classes": [],
       "_model_module": "@jupyter-widgets/controls",
       "_model_module_version": "1.5.0",
       "_model_name": "HBoxModel",
       "_view_count": null,
       "_view_module": "@jupyter-widgets/controls",
       "_view_module_version": "1.5.0",
       "_view_name": "HBoxView",
       "box_style": "",
       "children": [
        "IPY_MODEL_5936770ece5b44da9d3fefd827a3f65c",
        "IPY_MODEL_387d7e2f7cbc4458a135ab82cbe1ecd9",
        "IPY_MODEL_2c1a94d1b5d24dbea78bd8c16ee4c119"
       ],
       "layout": "IPY_MODEL_2e5d66c813334e68a3bb2983d37272f9"
      }
     },
     "e35c83ae66ed4ac99954136449527e86": {
      "model_module": "@jupyter-widgets/base",
      "model_module_version": "1.2.0",
      "model_name": "LayoutModel",
      "state": {
       "_model_module": "@jupyter-widgets/base",
       "_model_module_version": "1.2.0",
       "_model_name": "LayoutModel",
       "_view_count": null,
       "_view_module": "@jupyter-widgets/base",
       "_view_module_version": "1.2.0",
       "_view_name": "LayoutView",
       "align_content": null,
       "align_items": null,
       "align_self": null,
       "border": null,
       "bottom": null,
       "display": null,
       "flex": null,
       "flex_flow": null,
       "grid_area": null,
       "grid_auto_columns": null,
       "grid_auto_flow": null,
       "grid_auto_rows": null,
       "grid_column": null,
       "grid_gap": null,
       "grid_row": null,
       "grid_template_areas": null,
       "grid_template_columns": null,
       "grid_template_rows": null,
       "height": null,
       "justify_content": null,
       "justify_items": null,
       "left": null,
       "margin": null,
       "max_height": null,
       "max_width": null,
       "min_height": null,
       "min_width": null,
       "object_fit": null,
       "object_position": null,
       "order": null,
       "overflow": null,
       "overflow_x": null,
       "overflow_y": null,
       "padding": null,
       "right": null,
       "top": null,
       "visibility": null,
       "width": null
      }
     },
     "ebec5bf5e5b24a31995cc7e576cdfaf0": {
      "model_module": "@jupyter-widgets/controls",
      "model_module_version": "1.5.0",
      "model_name": "ProgressStyleModel",
      "state": {
       "_model_module": "@jupyter-widgets/controls",
       "_model_module_version": "1.5.0",
       "_model_name": "ProgressStyleModel",
       "_view_count": null,
       "_view_module": "@jupyter-widgets/base",
       "_view_module_version": "1.2.0",
       "_view_name": "StyleView",
       "bar_color": null,
       "description_width": ""
      }
     },
     "f082ccb7279d4867aa2625a895fa5bb8": {
      "model_module": "@jupyter-widgets/controls",
      "model_module_version": "1.5.0",
      "model_name": "HTMLModel",
      "state": {
       "_dom_classes": [],
       "_model_module": "@jupyter-widgets/controls",
       "_model_module_version": "1.5.0",
       "_model_name": "HTMLModel",
       "_view_count": null,
       "_view_module": "@jupyter-widgets/controls",
       "_view_module_version": "1.5.0",
       "_view_name": "HTMLView",
       "description": "",
       "description_tooltip": null,
       "layout": "IPY_MODEL_537a5dc3b38b4087a42c54a2b1c77cbb",
       "placeholder": "​",
       "style": "IPY_MODEL_8630ee1b9b93495ebec3cddd22bca47b",
       "value": " 420M/420M [00:09&lt;00:00, 50.3MB/s]"
      }
     },
     "f30450d545c9427991904ddde5cc2e0c": {
      "model_module": "@jupyter-widgets/base",
      "model_module_version": "1.2.0",
      "model_name": "LayoutModel",
      "state": {
       "_model_module": "@jupyter-widgets/base",
       "_model_module_version": "1.2.0",
       "_model_name": "LayoutModel",
       "_view_count": null,
       "_view_module": "@jupyter-widgets/base",
       "_view_module_version": "1.2.0",
       "_view_name": "LayoutView",
       "align_content": null,
       "align_items": null,
       "align_self": null,
       "border": null,
       "bottom": null,
       "display": null,
       "flex": null,
       "flex_flow": null,
       "grid_area": null,
       "grid_auto_columns": null,
       "grid_auto_flow": null,
       "grid_auto_rows": null,
       "grid_column": null,
       "grid_gap": null,
       "grid_row": null,
       "grid_template_areas": null,
       "grid_template_columns": null,
       "grid_template_rows": null,
       "height": null,
       "justify_content": null,
       "justify_items": null,
       "left": null,
       "margin": null,
       "max_height": null,
       "max_width": null,
       "min_height": null,
       "min_width": null,
       "object_fit": null,
       "object_position": null,
       "order": null,
       "overflow": null,
       "overflow_x": null,
       "overflow_y": null,
       "padding": null,
       "right": null,
       "top": null,
       "visibility": null,
       "width": null
      }
     },
     "f3acbb562e70411db29cb6bb7d7b54fb": {
      "model_module": "@jupyter-widgets/controls",
      "model_module_version": "1.5.0",
      "model_name": "DescriptionStyleModel",
      "state": {
       "_model_module": "@jupyter-widgets/controls",
       "_model_module_version": "1.5.0",
       "_model_name": "DescriptionStyleModel",
       "_view_count": null,
       "_view_module": "@jupyter-widgets/base",
       "_view_module_version": "1.2.0",
       "_view_name": "StyleView",
       "description_width": ""
      }
     },
     "f3c314972aae4224bb01cb527754d586": {
      "model_module": "@jupyter-widgets/controls",
      "model_module_version": "1.5.0",
      "model_name": "HTMLModel",
      "state": {
       "_dom_classes": [],
       "_model_module": "@jupyter-widgets/controls",
       "_model_module_version": "1.5.0",
       "_model_name": "HTMLModel",
       "_view_count": null,
       "_view_module": "@jupyter-widgets/controls",
       "_view_module_version": "1.5.0",
       "_view_name": "HTMLView",
       "description": "",
       "description_tooltip": null,
       "layout": "IPY_MODEL_4256316fc0bf47148ec6082c0a618572",
       "placeholder": "​",
       "style": "IPY_MODEL_70baff31597a44319185f240135038b2",
       "value": " 2050/2050 [06:12&lt;00:00,  6.23it/s]"
      }
     },
     "fc52741a07084029952a84fac007cc09": {
      "model_module": "@jupyter-widgets/base",
      "model_module_version": "1.2.0",
      "model_name": "LayoutModel",
      "state": {
       "_model_module": "@jupyter-widgets/base",
       "_model_module_version": "1.2.0",
       "_model_name": "LayoutModel",
       "_view_count": null,
       "_view_module": "@jupyter-widgets/base",
       "_view_module_version": "1.2.0",
       "_view_name": "LayoutView",
       "align_content": null,
       "align_items": null,
       "align_self": null,
       "border": null,
       "bottom": null,
       "display": null,
       "flex": null,
       "flex_flow": null,
       "grid_area": null,
       "grid_auto_columns": null,
       "grid_auto_flow": null,
       "grid_auto_rows": null,
       "grid_column": null,
       "grid_gap": null,
       "grid_row": null,
       "grid_template_areas": null,
       "grid_template_columns": null,
       "grid_template_rows": null,
       "height": null,
       "justify_content": null,
       "justify_items": null,
       "left": null,
       "margin": null,
       "max_height": null,
       "max_width": null,
       "min_height": null,
       "min_width": null,
       "object_fit": null,
       "object_position": null,
       "order": null,
       "overflow": null,
       "overflow_x": null,
       "overflow_y": null,
       "padding": null,
       "right": null,
       "top": null,
       "visibility": null,
       "width": null
      }
     },
     "fccd282515ed414faa8037f13ca02ad3": {
      "model_module": "@jupyter-widgets/controls",
      "model_module_version": "1.5.0",
      "model_name": "ProgressStyleModel",
      "state": {
       "_model_module": "@jupyter-widgets/controls",
       "_model_module_version": "1.5.0",
       "_model_name": "ProgressStyleModel",
       "_view_count": null,
       "_view_module": "@jupyter-widgets/base",
       "_view_module_version": "1.2.0",
       "_view_name": "StyleView",
       "bar_color": null,
       "description_width": ""
      }
     },
     "fd94440676404b47bb99da3ae86aa21c": {
      "model_module": "@jupyter-widgets/controls",
      "model_module_version": "1.5.0",
      "model_name": "FloatProgressModel",
      "state": {
       "_dom_classes": [],
       "_model_module": "@jupyter-widgets/controls",
       "_model_module_version": "1.5.0",
       "_model_name": "FloatProgressModel",
       "_view_count": null,
       "_view_module": "@jupyter-widgets/controls",
       "_view_module_version": "1.5.0",
       "_view_name": "ProgressView",
       "bar_style": "success",
       "description": "",
       "description_tooltip": null,
       "layout": "IPY_MODEL_1081a3057b164190996493188040c829",
       "max": 466062.0,
       "min": 0.0,
       "orientation": "horizontal",
       "style": "IPY_MODEL_dc8e0463c8ad406db054af3ffc6dcf7f",
       "value": 466062.0
      }
     },
     "feeb32b9fa5841f2a2f71e3124b81df4": {
      "model_module": "@jupyter-widgets/controls",
      "model_module_version": "1.5.0",
      "model_name": "DescriptionStyleModel",
      "state": {
       "_model_module": "@jupyter-widgets/controls",
       "_model_module_version": "1.5.0",
       "_model_name": "DescriptionStyleModel",
       "_view_count": null,
       "_view_module": "@jupyter-widgets/base",
       "_view_module_version": "1.2.0",
       "_view_name": "StyleView",
       "description_width": ""
      }
     },
     "ff50b21833884335afa8f30e99f493b3": {
      "model_module": "@jupyter-widgets/controls",
      "model_module_version": "1.5.0",
      "model_name": "DescriptionStyleModel",
      "state": {
       "_model_module": "@jupyter-widgets/controls",
       "_model_module_version": "1.5.0",
       "_model_name": "DescriptionStyleModel",
       "_view_count": null,
       "_view_module": "@jupyter-widgets/base",
       "_view_module_version": "1.2.0",
       "_view_name": "StyleView",
       "description_width": ""
      }
     }
    },
    "version_major": 2,
    "version_minor": 0
   }
  }
 },
 "nbformat": 4,
 "nbformat_minor": 5
}
